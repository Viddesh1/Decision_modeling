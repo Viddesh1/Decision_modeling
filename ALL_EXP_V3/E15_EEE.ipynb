{
 "cells": [
  {
   "cell_type": "code",
   "execution_count": 1,
   "metadata": {},
   "outputs": [
    {
     "name": "stdout",
     "output_type": "stream",
     "text": [
      "[ 0.59907122  1.51676917 -0.47638006  0.83829421  0.87925192 -1.20972001\n",
      "  1.26015852  1.09075534 -1.77465538 -0.34163573]\n",
      "\n"
     ]
    }
   ],
   "source": [
    "# Explicit, Explore, Exploit (E3) Algorithm  \n",
    "import numpy as np\n",
    "\n",
    "# Define the number of arms\n",
    "num_arms = 10\n",
    "\n",
    "# Initialize the action-value estimates and the number of times each action has been taken\n",
    "Q = np.zeros(num_arms)\n",
    "N = np.zeros(num_arms)\n",
    "\n",
    "# Define the exploration rate\n",
    "epsilon = 0.1\n",
    "\n",
    "# Define the number of steps to run the algorithm\n",
    "num_steps = 1000\n",
    "\n",
    "# Loop over steps\n",
    "for step in range(num_steps):\n",
    "    # Choose an action using an epsilon-greedy policy\n",
    "    if np.random.rand() < epsilon:\n",
    "        # Choose a random action\n",
    "        action = np.random.randint(num_arms)\n",
    "    else:\n",
    "        # Choose the action with the highest estimated value\n",
    "        action = np.argmax(Q)\n",
    "\n",
    "    # Take the action and observe the reward\n",
    "    reward = np.random.normal(Q[action], 1)\n",
    "\n",
    "    # Update the action-value estimate and the number of times the action has been taken\n",
    "    N[action] += 1\n",
    "    Q[action] += (1/N[action]) * (reward - Q[action])\n",
    "\n",
    "# Print the final action-value estimates\n",
    "# Print the final Q-table\n",
    "print(Q, end=\"\\n\\n\")"
   ]
  }
 ],
 "metadata": {
  "kernelspec": {
   "display_name": "Python 3",
   "language": "python",
   "name": "python3"
  },
  "language_info": {
   "codemirror_mode": {
    "name": "ipython",
    "version": 3
   },
   "file_extension": ".py",
   "mimetype": "text/x-python",
   "name": "python",
   "nbconvert_exporter": "python",
   "pygments_lexer": "ipython3",
   "version": "3.11.2"
  },
  "orig_nbformat": 4
 },
 "nbformat": 4,
 "nbformat_minor": 2
}
