{
 "cells": [
  {
   "cell_type": "code",
   "execution_count": 2,
   "metadata": {},
   "outputs": [
    {
     "name": "stdout",
     "output_type": "stream",
     "text": [
      "[[0.94942023 0.        ]\n",
      " [0.         0.73211997]\n",
      " [1.79829422 0.        ]\n",
      " [0.         0.        ]]\n",
      "\n",
      "Optimal policy:\n",
      "State 0: Action 0\n",
      "State 1: Action 1\n",
      "State 2: Action 0\n",
      "State 3: Action 0\n"
     ]
    },
    {
     "name": "stderr",
     "output_type": "stream",
     "text": [
      "C:\\Users\\Administrator\\AppData\\Local\\Temp\\ipykernel_548\\2472995520.py:48: RuntimeWarning: invalid value encountered in double_scalars\n",
      "  p_s_a /= np.sum(p_s_a)\n"
     ]
    }
   ],
   "source": [
    "# R-learning algorithm\n",
    "import numpy as np\n",
    "\n",
    "# Define the number of states and actions\n",
    "num_states = 4\n",
    "num_actions = 2\n",
    "\n",
    "# Define the learning rate\n",
    "alpha = 0.1\n",
    "\n",
    "# Define the discount factor\n",
    "gamma = 0.9\n",
    "\n",
    "# Initialize the Q-table\n",
    "Q = np.zeros((num_states, num_actions))\n",
    "\n",
    "# Define the reward function\n",
    "R = np.array([[0, 1],\n",
    "              [0, 0],\n",
    "              [1, 0],\n",
    "              [0, 0]])\n",
    "\n",
    "# Define the transition function\n",
    "T = np.array([[0.7, 0.3, 0, 0],\n",
    "              [0, 0.6, 0.4, 0],\n",
    "              [0, 0, 0.8, 0.2],\n",
    "              [0, 0, 0, 1]])\n",
    "\n",
    "# Define the policy\n",
    "policy = np.array([0, 1, 0, 1])\n",
    "\n",
    "# Define the number of episodes\n",
    "num_episodes = 1000\n",
    "\n",
    "# Loop over episodes\n",
    "for episode in range(num_episodes):\n",
    "    # Initialize the state\n",
    "    s = 0\n",
    "\n",
    "    # Loop over time steps\n",
    "    while True:\n",
    "        # Choose an action using the policy\n",
    "        a = policy[s]\n",
    "        \n",
    "\n",
    "        # Take the action and observe the next state and reward\n",
    "        p_s_a = T[s, a]\n",
    "        p_s_a /= np.sum(p_s_a)\n",
    "        s_prime = np.random.choice(num_states)\n",
    "        r = R[s, a]\n",
    "\n",
    "        # Update the Q-value\n",
    "        Q[s, a] += alpha * (r + gamma * np.max(Q[s_prime, :]) - Q[s, a])\n",
    "\n",
    "        # Update the state\n",
    "        s = s_prime\n",
    "\n",
    "        # Check if the episode is over\n",
    "        if s == 3:\n",
    "            break\n",
    "\n",
    "# Print the final Q-table\n",
    "print(Q, end=\"\\n\\n\")\n",
    "\n",
    "# Obtain the optimal policy from the Q-table\n",
    "optimal_policy = np.argmax(Q, axis=1)\n",
    "\n",
    "# Print the optimal policy\n",
    "print(\"Optimal policy:\")\n",
    "for s in range(num_states):\n",
    "    print(f\"State {s}: Action {optimal_policy[s]}\")"
   ]
  }
 ],
 "metadata": {
  "kernelspec": {
   "display_name": "Python 3",
   "language": "python",
   "name": "python3"
  },
  "language_info": {
   "codemirror_mode": {
    "name": "ipython",
    "version": 3
   },
   "file_extension": ".py",
   "mimetype": "text/x-python",
   "name": "python",
   "nbconvert_exporter": "python",
   "pygments_lexer": "ipython3",
   "version": "3.11.2"
  },
  "orig_nbformat": 4
 },
 "nbformat": 4,
 "nbformat_minor": 2
}
