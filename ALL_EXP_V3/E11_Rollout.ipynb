{
 "cells": [
  {
   "cell_type": "code",
   "execution_count": 19,
   "metadata": {},
   "outputs": [
    {
     "name": "stdout",
     "output_type": "stream",
     "text": [
      "Move 1 : Go right to state 6\n",
      "Move 2 : Go right to state 7\n",
      "Move 3 : Go right to state 8\n",
      "Move 4 : Go right to state 9\n",
      "Move 5 : Go right to state 10\n",
      "Move 6 : Go left to state 9\n",
      "Move 7 : Go right to state 10\n",
      "Move 8 : Go left to state 9\n",
      "Move 9 : Go right to state 10\n",
      "Move 10 : Go left to state 9\n"
     ]
    }
   ],
   "source": [
    "# Simple example of the Rollout algorithm.\n",
    "# In this example, we're trying to navigate from a starting state of 5 to a goal state of 10 by \n",
    "# moving either left or right.\n",
    "# Finally, we run the rollout algorithm from a starting state of 5 for 10 moves, \n",
    "# printing out the best move and resulting state for each move.\n",
    "\n",
    "def simulate_future_move(state, action):\n",
    "    # Simulate a future move and return the resulting state\n",
    "    # In this example, the state is represented as an integer, and the actions are left (0) and right (1)\n",
    "    if action == 0:\n",
    "        return state - 1\n",
    "    elif action == 1:\n",
    "        return state + 1\n",
    "\n",
    "def evaluate_game_state(state):\n",
    "    # Evaluate a game state and return a score\n",
    "    # In this example, the score is simply the distance from the goal state (10)\n",
    "    return abs(state - 10)\n",
    "\n",
    "def rollout_algorithm(state):\n",
    "    # Simulate future moves and evaluate the resulting game states\n",
    "    moves = [0, 1]  # possible actions: left, right\n",
    "    scores = []\n",
    "    for move in moves:\n",
    "        future_state = simulate_future_move(state, move)\n",
    "        score = evaluate_game_state(future_state)\n",
    "        scores.append(score)\n",
    "    # Choose the move with the lowest score (i.e., the move that gets us closest to the goal state)\n",
    "    best_move_index = scores.index(min(scores))\n",
    "    best_move = moves[best_move_index]\n",
    "    return best_move\n",
    "\n",
    "# Run the rollout algorithm from a starting state of 5\n",
    "state = 5\n",
    "for i in range(10):\n",
    "    best_move = rollout_algorithm(state)\n",
    "    state = simulate_future_move(state, best_move)\n",
    "    print(\"Move\", i+1, \": Go\", \"right\" if best_move == 1 else \"left\", \"to state\", state)\n"
   ]
  }
 ],
 "metadata": {
  "kernelspec": {
   "display_name": "Python 3",
   "language": "python",
   "name": "python3"
  },
  "language_info": {
   "codemirror_mode": {
    "name": "ipython",
    "version": 3
   },
   "file_extension": ".py",
   "mimetype": "text/x-python",
   "name": "python",
   "nbconvert_exporter": "python",
   "pygments_lexer": "ipython3",
   "version": "3.11.2"
  },
  "orig_nbformat": 4
 },
 "nbformat": 4,
 "nbformat_minor": 2
}
