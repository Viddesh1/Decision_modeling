{
 "cells": [
  {
   "cell_type": "markdown",
   "metadata": {
    "id": "p62G8M_viUJp"
   },
   "source": [
    "# Playing CartPole with the Actor-Critic method\n"
   ]
  },
  {
   "cell_type": "markdown",
   "metadata": {
    "id": "-mJ2i6jvZ3sK"
   },
   "source": [
    "<table class=\"tfo-notebook-buttons\" align=\"left\">\n",
    "  <td>\n",
    "    <a target=\"_blank\" href=\"https://www.tensorflow.org/tutorials/reinforcement_learning/actor_critic\">\n",
    "    <img src=\"https://www.tensorflow.org/images/tf_logo_32px.png\" />\n",
    "    View on TensorFlow.org</a>\n",
    "  </td>\n",
    "  <td>\n",
    "    <a target=\"_blank\" href=\"https://colab.research.google.com/github/tensorflow/docs/blob/master/site/en/tutorials/reinforcement_learning/actor_critic.ipynb\">\n",
    "    <img src=\"https://www.tensorflow.org/images/colab_logo_32px.png\" />\n",
    "    Run in Google Colab</a>\n",
    "  </td>\n",
    "  <td>\n",
    "    <a target=\"_blank\" href=\"https://github.com/tensorflow/docs/blob/master/site/en/tutorials/reinforcement_learning/actor_critic.ipynb\">\n",
    "    <img src=\"https://www.tensorflow.org/images/GitHub-Mark-32px.png\" />\n",
    "    View source on GitHub</a>\n",
    "  </td>\n",
    "  <td>\n",
    "    <a href=\"https://storage.googleapis.com/tensorflow_docs/docs/site/en/tutorials/reinforcement_learning/actor_critic.ipynb\"><img src=\"https://www.tensorflow.org/images/download_logo_32px.png\" />Download notebook</a>\n",
    "  </td>\n",
    "</table>"
   ]
  },
  {
   "cell_type": "markdown",
   "metadata": {
    "id": "kFgN7h_wiUJq"
   },
   "source": [
    "This tutorial demonstrates how to implement the [Actor-Critic](https://papers.nips.cc/paper/1786-actor-critic-algorithms.pdf) method using TensorFlow to train an agent on the [Open AI Gym](https://www.gymlibrary.dev/) [`CartPole-v0`](https://www.gymlibrary.dev/environments/classic_control/cart_pole/) environment.\n",
    "The reader is assumed to have some familiarity with [policy gradient methods](https://papers.nips.cc/paper/1713-policy-gradient-methods-for-reinforcement-learning-with-function-approximation.pdf) of [(deep) reinforcement learning](https://en.wikipedia.org/wiki/Deep_reinforcement_learning). \n"
   ]
  },
  {
   "cell_type": "markdown",
   "metadata": {
    "id": "_kA10ZKRR0hi"
   },
   "source": [
    "**Actor-Critic methods**\n",
    "\n",
    "Actor-Critic methods are [temporal difference (TD) learning](https://en.wikipedia.org/wiki/Temporal_difference_learning) methods that represent the policy function independent of the value function.\n",
    "\n",
    "A policy function (or policy) returns a probability distribution over actions that the agent can take based on the given state.\n",
    "A value function determines the expected return for an agent starting at a given state and acting according to a particular policy forever after.\n",
    "\n",
    "In the Actor-Critic method, the policy is referred to as the *actor* that proposes a set of possible actions given a state, and the estimated value function is referred to as the *critic*, which evaluates actions taken by the *actor* based on the given policy.\n",
    "\n",
    "In this tutorial, both the *Actor* and *Critic* will be represented using one neural network with two outputs.\n"
   ]
  },
  {
   "cell_type": "markdown",
   "metadata": {
    "id": "rBfiafKSRs2k"
   },
   "source": [
    "**`CartPole-v0`**\n",
    "\n",
    "In the [`CartPole-v0` environment](https://www.gymlibrary.dev/environments/classic_control/cart_pole/), a pole is attached to a cart moving along a frictionless track.\n",
    "The pole starts upright and the goal of the agent is to prevent it from falling over by applying a force of `-1` or `+1` to the cart.\n",
    "A reward of `+1` is given for every time step the pole remains upright.\n",
    "An episode ends when: 1) the pole is more than 15 degrees from vertical; or 2) the cart moves more than 2.4 units from the center.\n",
    "\n",
    "<center>\n",
    "  <figure>\n",
    "    <image src=\"https://tensorflow.org/tutorials/reinforcement_learning/images/cartpole-v0.gif\">\n",
    "    <figcaption>\n",
    "      Trained actor-critic model in Cartpole-v0 environment\n",
    "    </figcaption>\n",
    "  </figure>\n",
    "</center>\n"
   ]
  },
  {
   "cell_type": "markdown",
   "metadata": {
    "id": "XSNVK0AeRoJd"
   },
   "source": [
    "The problem is considered \"solved\" when the average total reward for the episode reaches 195 over 100 consecutive trials."
   ]
  },
  {
   "cell_type": "markdown",
   "metadata": {
    "id": "glLwIctHiUJq"
   },
   "source": [
    "## Setup\n",
    "\n",
    "Import necessary packages and configure global settings.\n"
   ]
  },
  {
   "cell_type": "code",
   "execution_count": 1,
   "metadata": {
    "execution": {
     "iopub.execute_input": "2022-12-20T03:07:33.306405Z",
     "iopub.status.busy": "2022-12-20T03:07:33.306111Z",
     "iopub.status.idle": "2022-12-20T03:07:44.730859Z",
     "shell.execute_reply": "2022-12-20T03:07:44.729822Z"
    },
    "id": "13l6BbxKhCKp"
   },
   "outputs": [
    {
     "name": "stdout",
     "output_type": "stream",
     "text": [
      "Requirement already satisfied: gym[classic_control] in c:\\users\\administrator\\appdata\\local\\programs\\python\\python311\\lib\\site-packages (0.26.2)\n",
      "Requirement already satisfied: numpy>=1.18.0 in c:\\users\\administrator\\appdata\\local\\programs\\python\\python311\\lib\\site-packages (from gym[classic_control]) (1.23.5)\n",
      "Requirement already satisfied: cloudpickle>=1.2.0 in c:\\users\\administrator\\appdata\\local\\programs\\python\\python311\\lib\\site-packages (from gym[classic_control]) (2.2.1)\n",
      "Requirement already satisfied: gym-notices>=0.0.4 in c:\\users\\administrator\\appdata\\local\\programs\\python\\python311\\lib\\site-packages (from gym[classic_control]) (0.0.8)\n",
      "Collecting pygame==2.1.0\n",
      "  Using cached pygame-2.1.0.tar.gz (5.8 MB)\n",
      "  Preparing metadata (setup.py): started\n",
      "  Preparing metadata (setup.py): finished with status 'error'\n"
     ]
    },
    {
     "name": "stderr",
     "output_type": "stream",
     "text": [
      "  error: subprocess-exited-with-error\n",
      "  \n",
      "  × python setup.py egg_info did not run successfully.\n",
      "  │ exit code: 1\n",
      "  ╰─> [77 lines of output]\n",
      "      \n",
      "      \n",
      "      WARNING, No \"Setup\" File Exists, Running \"buildconfig/config.py\"\n",
      "      Using WINDOWS configuration...\n",
      "      \n",
      "      Making dir :prebuilt_downloads:\n",
      "      Downloading... https://www.libsdl.org/release/SDL2-devel-2.0.16-VC.zip 13d952c333f3c2ebe9b7bc0075b4ad2f784e7584\n",
      "      Unzipping :prebuilt_downloads\\SDL2-devel-2.0.16-VC.zip:\n",
      "      Downloading... https://www.libsdl.org/projects/SDL_image/release/SDL2_image-devel-2.0.5-VC.zip 137f86474691f4e12e76e07d58d5920c8d844d5b\n",
      "      Unzipping :prebuilt_downloads\\SDL2_image-devel-2.0.5-VC.zip:\n",
      "      Downloading... https://www.libsdl.org/projects/SDL_ttf/release/SDL2_ttf-devel-2.0.15-VC.zip 1436df41ebc47ac36e02ec9bda5699e80ff9bd27\n",
      "      Unzipping :prebuilt_downloads\\SDL2_ttf-devel-2.0.15-VC.zip:\n",
      "      Downloading... https://www.libsdl.org/projects/SDL_mixer/release/SDL2_mixer-devel-2.0.4-VC.zip 9097148f4529cf19f805ccd007618dec280f0ecc\n",
      "      Unzipping :prebuilt_downloads\\SDL2_mixer-devel-2.0.4-VC.zip:\n",
      "      Downloading... https://www.pygame.org/ftp/jpegsr9d.zip ed10aa2b5a0fcfe74f8a6f7611aeb346b06a1f99\n",
      "      Unzipping :prebuilt_downloads\\jpegsr9d.zip:\n",
      "      Downloading... https://pygame.org/ftp/prebuilt-x64-pygame-1.9.2-20150922.zip 3a5af3427b3aa13a0aaf5c4cb08daaed341613ed\n",
      "      Unzipping :prebuilt_downloads\\prebuilt-x64-pygame-1.9.2-20150922.zip:\n",
      "      copying into .\\prebuilt-x64\n",
      "      Path for SDL: prebuilt-x64\\SDL2-2.0.16\n",
      "      ...Library directory for SDL: prebuilt-x64/SDL2-2.0.16/lib/x64\n",
      "      ...Include directory for SDL: prebuilt-x64/SDL2-2.0.16/include\n",
      "      Path for FONT: prebuilt-x64\\SDL2_ttf-2.0.15\n",
      "      ...Library directory for FONT: prebuilt-x64/SDL2_ttf-2.0.15/lib/x64\n",
      "      ...Include directory for FONT: prebuilt-x64/SDL2_ttf-2.0.15/include\n",
      "      Path for IMAGE: prebuilt-x64\\SDL2_image-2.0.5\n",
      "      ...Library directory for IMAGE: prebuilt-x64/SDL2_image-2.0.5/lib/x64\n",
      "      ...Include directory for IMAGE: prebuilt-x64/SDL2_image-2.0.5/include\n",
      "      Path for MIXER: prebuilt-x64\\SDL2_mixer-2.0.4\n",
      "      ...Library directory for MIXER: prebuilt-x64/SDL2_mixer-2.0.4/lib/x64\n",
      "      ...Include directory for MIXER: prebuilt-x64/SDL2_mixer-2.0.4/include\n",
      "      Path for PORTMIDI: prebuilt-x64\n",
      "      ...Library directory for PORTMIDI: prebuilt-x64/lib\n",
      "      ...Include directory for PORTMIDI: prebuilt-x64/include\n",
      "      DLL for SDL2: prebuilt-x64/SDL2-2.0.16/lib/x64/SDL2.dll\n",
      "      DLL for SDL2_ttf: prebuilt-x64/SDL2_ttf-2.0.15/lib/x64/SDL2_ttf.dll\n",
      "      DLL for SDL2_image: prebuilt-x64/SDL2_image-2.0.5/lib/x64/SDL2_image.dll\n",
      "      DLL for SDL2_mixer: prebuilt-x64/SDL2_mixer-2.0.4/lib/x64/SDL2_mixer.dll\n",
      "      DLL for portmidi: prebuilt-x64/lib/portmidi.dll\n",
      "      Path for FREETYPE not found.\n",
      "      ...Found include dir but no library dir in prebuilt-x64.\n",
      "      Path for PNG not found.\n",
      "      ...Found include dir but no library dir in prebuilt-x64.\n",
      "      Path for JPEG not found.\n",
      "      ...Found include dir but no library dir in prebuilt-x64.\n",
      "      DLL for freetype: prebuilt-x64/SDL2_ttf-2.0.15/lib/x64/libfreetype-6.dll\n",
      "      \n",
      "      ---\n",
      "      For help with compilation see:\n",
      "          https://www.pygame.org/wiki/CompileWindows\n",
      "      To contribute to pygame development see:\n",
      "          https://www.pygame.org/contribute.html\n",
      "      ---\n",
      "      \n",
      "      Traceback (most recent call last):\n",
      "        File \"<string>\", line 2, in <module>\n",
      "        File \"<pip-setuptools-caller>\", line 34, in <module>\n",
      "        File \"C:\\Users\\Administrator\\AppData\\Local\\Temp\\pip-install-h12pim23\\pygame_6119be40c8e64a648007faa12ef9bf17\\setup.py\", line 388, in <module>\n",
      "          buildconfig.config.main(AUTO_CONFIG)\n",
      "        File \"C:\\Users\\Administrator\\AppData\\Local\\Temp\\pip-install-h12pim23\\pygame_6119be40c8e64a648007faa12ef9bf17\\buildconfig\\config.py\", line 234, in main\n",
      "          deps = CFG.main(**kwds)\n",
      "                 ^^^^^^^^^^^^^^^^\n",
      "        File \"C:\\Users\\Administrator\\AppData\\Local\\Temp\\pip-install-h12pim23\\pygame_6119be40c8e64a648007faa12ef9bf17\\buildconfig\\config_win.py\", line 511, in main\n",
      "          return setup_prebuilt_sdl2(prebuilt_dir)\n",
      "                 ^^^^^^^^^^^^^^^^^^^^^^^^^^^^^^^^^\n",
      "        File \"C:\\Users\\Administrator\\AppData\\Local\\Temp\\pip-install-h12pim23\\pygame_6119be40c8e64a648007faa12ef9bf17\\buildconfig\\config_win.py\", line 471, in setup_prebuilt_sdl2\n",
      "          DEPS.configure()\n",
      "        File \"C:\\Users\\Administrator\\AppData\\Local\\Temp\\pip-install-h12pim23\\pygame_6119be40c8e64a648007faa12ef9bf17\\buildconfig\\config_win.py\", line 336, in configure\n",
      "          from . import vstools\n",
      "        File \"C:\\Users\\Administrator\\AppData\\Local\\Temp\\pip-install-h12pim23\\pygame_6119be40c8e64a648007faa12ef9bf17\\buildconfig\\vstools.py\", line 11, in <module>\n",
      "          compiler.initialize()\n",
      "        File \"C:\\Users\\Administrator\\AppData\\Local\\Programs\\Python\\Python311\\Lib\\site-packages\\setuptools\\_distutils\\msvc9compiler.py\", line 403, in initialize\n",
      "          vc_env = query_vcvarsall(VERSION, plat_spec)\n",
      "                   ^^^^^^^^^^^^^^^^^^^^^^^^^^^^^^^^^^^\n",
      "        File \"C:\\Users\\Administrator\\AppData\\Local\\Programs\\Python\\Python311\\Lib\\site-packages\\setuptools\\_distutils\\msvc9compiler.py\", line 281, in query_vcvarsall\n",
      "          raise DistutilsPlatformError(\"Unable to find vcvarsall.bat\")\n",
      "      distutils.errors.DistutilsPlatformError: Unable to find vcvarsall.bat\n",
      "      [end of output]\n",
      "  \n",
      "  note: This error originates from a subprocess, and is likely not a problem with pip.\n",
      "error: metadata-generation-failed\n",
      "\n",
      "× Encountered error while generating package metadata.\n",
      "╰─> See above for output.\n",
      "\n",
      "note: This is an issue with the package mentioned above, not pip.\n",
      "hint: See above for details.\n",
      "\n",
      "[notice] A new release of pip is available: 23.0.1 -> 23.1\n",
      "[notice] To update, run: python.exe -m pip install --upgrade pip\n"
     ]
    },
    {
     "name": "stdout",
     "output_type": "stream",
     "text": [
      "Requirement already satisfied: pyglet in c:\\users\\administrator\\appdata\\local\\programs\\python\\python311\\lib\\site-packages (1.5.1)\n"
     ]
    },
    {
     "name": "stderr",
     "output_type": "stream",
     "text": [
      "\n",
      "[notice] A new release of pip is available: 23.0.1 -> 23.1\n",
      "[notice] To update, run: python.exe -m pip install --upgrade pip\n"
     ]
    }
   ],
   "source": [
    "!pip install gym[classic_control]\n",
    "!pip install pyglet"
   ]
  },
  {
   "cell_type": "code",
   "execution_count": 2,
   "metadata": {
    "execution": {
     "iopub.execute_input": "2022-12-20T03:07:44.735453Z",
     "iopub.status.busy": "2022-12-20T03:07:44.735106Z",
     "iopub.status.idle": "2022-12-20T03:08:02.189906Z",
     "shell.execute_reply": "2022-12-20T03:08:02.188523Z"
    },
    "id": "WBeQhPi2S4m5"
   },
   "outputs": [
    {
     "name": "stdout",
     "output_type": "stream",
     "text": [
      "Couldn't find program: 'bash'\n"
     ]
    }
   ],
   "source": [
    "%%bash\n",
    "# Install additional packages for visualization\n",
    "sudo apt-get install -y python-opengl > /dev/null 2>&1\n",
    "pip install git+https://github.com/tensorflow/docs > /dev/null 2>&1"
   ]
  },
  {
   "cell_type": "code",
   "execution_count": 3,
   "metadata": {
    "execution": {
     "iopub.execute_input": "2022-12-20T03:08:02.194743Z",
     "iopub.status.busy": "2022-12-20T03:08:02.194455Z",
     "iopub.status.idle": "2022-12-20T03:08:05.034718Z",
     "shell.execute_reply": "2022-12-20T03:08:05.033658Z"
    },
    "id": "tT4N3qYviUJr"
   },
   "outputs": [],
   "source": [
    "import collections\n",
    "import gym\n",
    "import numpy as np\n",
    "import statistics\n",
    "import tensorflow as tf\n",
    "import tqdm\n",
    "\n",
    "from matplotlib import pyplot as plt\n",
    "from tensorflow.keras import layers\n",
    "from typing import Any, List, Sequence, Tuple\n",
    "\n",
    "\n",
    "# Create the environment\n",
    "env = gym.make(\"CartPole-v1\")\n",
    "\n",
    "# Set seed for experiment reproducibility\n",
    "seed = 42\n",
    "tf.random.set_seed(seed)\n",
    "np.random.seed(seed)\n",
    "\n",
    "# Small epsilon value for stabilizing division operations\n",
    "eps = np.finfo(np.float32).eps.item()"
   ]
  },
  {
   "cell_type": "markdown",
   "metadata": {
    "id": "AOUCe2D0iUJu"
   },
   "source": [
    "## The model\n",
    "\n",
    "The *Actor* and *Critic* will be modeled using one neural network that generates the action probabilities and Critic value respectively. This tutorial uses model subclassing to define the model. \n",
    "\n",
    "During the forward pass, the model will take in the state as the input and will output both action probabilities and critic value $V$, which models the state-dependent [value function](https://spinningup.openai.com/en/latest/spinningup/rl_intro.html#value-functions). The goal is to train a model that chooses actions based on a policy $\\pi$ that maximizes expected [return](https://spinningup.openai.com/en/latest/spinningup/rl_intro.html#reward-and-return).\n",
    "\n",
    "For `CartPole-v0`, there are four values representing the state: cart position, cart-velocity, pole angle and pole velocity respectively. The agent can take two actions to push the cart left (`0`) and right (`1`), respectively.\n",
    "\n",
    "Refer to [Gym's Cart Pole documentation page](https://www.gymlibrary.dev/environments/classic_control/cart_pole/) and [_Neuronlike adaptive elements that can solve difficult learning control problems_](http://www.derongliu.org/adp/adp-cdrom/Barto1983.pdf) by Barto, Sutton and Anderson (1983) for more information.\n"
   ]
  },
  {
   "cell_type": "code",
   "execution_count": 4,
   "metadata": {
    "execution": {
     "iopub.execute_input": "2022-12-20T03:08:05.039401Z",
     "iopub.status.busy": "2022-12-20T03:08:05.038987Z",
     "iopub.status.idle": "2022-12-20T03:08:05.046252Z",
     "shell.execute_reply": "2022-12-20T03:08:05.045256Z"
    },
    "id": "aXKbbMC-kmuv"
   },
   "outputs": [],
   "source": [
    "class ActorCritic(tf.keras.Model):\n",
    "  \"\"\"Combined actor-critic network.\"\"\"\n",
    "\n",
    "  def __init__(\n",
    "      self, \n",
    "      num_actions: int, \n",
    "      num_hidden_units: int):\n",
    "    \"\"\"Initialize.\"\"\"\n",
    "    super().__init__()\n",
    "\n",
    "    self.common = layers.Dense(num_hidden_units, activation=\"relu\")\n",
    "    self.actor = layers.Dense(num_actions)\n",
    "    self.critic = layers.Dense(1)\n",
    "\n",
    "  def call(self, inputs: tf.Tensor) -> Tuple[tf.Tensor, tf.Tensor]:\n",
    "    x = self.common(inputs)\n",
    "    return self.actor(x), self.critic(x)"
   ]
  },
  {
   "cell_type": "code",
   "execution_count": 5,
   "metadata": {
    "execution": {
     "iopub.execute_input": "2022-12-20T03:08:05.049845Z",
     "iopub.status.busy": "2022-12-20T03:08:05.049350Z",
     "iopub.status.idle": "2022-12-20T03:08:09.219783Z",
     "shell.execute_reply": "2022-12-20T03:08:09.218811Z"
    },
    "id": "nWyxJgjLn68c"
   },
   "outputs": [],
   "source": [
    "num_actions = env.action_space.n  # 2\n",
    "num_hidden_units = 128\n",
    "\n",
    "model = ActorCritic(num_actions, num_hidden_units)"
   ]
  },
  {
   "cell_type": "markdown",
   "metadata": {
    "id": "hk92njFziUJw"
   },
   "source": [
    "## Train the agent\n",
    "\n",
    "To train the agent, you will follow these steps:\n",
    "\n",
    "1. Run the agent on the environment to collect training data per episode.\n",
    "2. Compute expected return at each time step.\n",
    "3. Compute the loss for the combined Actor-Critic model.\n",
    "4. Compute gradients and update network parameters.\n",
    "5. Repeat 1-4 until either success criterion or max episodes has been reached.\n"
   ]
  },
  {
   "cell_type": "markdown",
   "metadata": {
    "id": "R2nde2XDs8Gh"
   },
   "source": [
    "### 1. Collect training data\n",
    "\n",
    "As in supervised learning, in order to train the actor-critic model, you need\n",
    "to have training data. However, in order to collect such data, the model would\n",
    "need to be \"run\" in the environment.\n",
    "\n",
    "Training data is collected for each episode. Then at each time step, the model's forward pass will be run on the environment's state in order to generate action probabilities and the critic value based on the current policy parameterized by the model's weights.\n",
    "\n",
    "The next action will be sampled from the action probabilities generated by the model, which would then be applied to the environment, causing the next state and reward to be generated.\n",
    "\n",
    "This process is implemented in the `run_episode` function, which uses TensorFlow operations so that it can later be compiled into a TensorFlow graph for faster training. Note that `tf.TensorArray`s were used to support Tensor iteration on variable length arrays."
   ]
  },
  {
   "cell_type": "code",
   "execution_count": 6,
   "metadata": {
    "execution": {
     "iopub.execute_input": "2022-12-20T03:08:09.225007Z",
     "iopub.status.busy": "2022-12-20T03:08:09.224713Z",
     "iopub.status.idle": "2022-12-20T03:08:09.230866Z",
     "shell.execute_reply": "2022-12-20T03:08:09.230023Z"
    },
    "id": "5URrbGlDSAGx"
   },
   "outputs": [],
   "source": [
    "# Wrap Gym's `env.step` call as an operation in a TensorFlow function.\n",
    "# This would allow it to be included in a callable TensorFlow graph.\n",
    "\n",
    "def env_step(action: np.ndarray) -> Tuple[np.ndarray, np.ndarray, np.ndarray]:\n",
    "  \"\"\"Returns state, reward and done flag given an action.\"\"\"\n",
    "\n",
    "  state, reward, done, truncated, info = env.step(action)\n",
    "  return (state.astype(np.float32), \n",
    "          np.array(reward, np.int32), \n",
    "          np.array(done, np.int32))\n",
    "\n",
    "\n",
    "def tf_env_step(action: tf.Tensor) -> List[tf.Tensor]:\n",
    "  return tf.numpy_function(env_step, [action], \n",
    "                           [tf.float32, tf.int32, tf.int32])"
   ]
  },
  {
   "cell_type": "code",
   "execution_count": 7,
   "metadata": {
    "execution": {
     "iopub.execute_input": "2022-12-20T03:08:09.234550Z",
     "iopub.status.busy": "2022-12-20T03:08:09.234291Z",
     "iopub.status.idle": "2022-12-20T03:08:09.242166Z",
     "shell.execute_reply": "2022-12-20T03:08:09.241389Z"
    },
    "id": "a4qVRV063Cl9"
   },
   "outputs": [],
   "source": [
    "def run_episode(\n",
    "    initial_state: tf.Tensor,  \n",
    "    model: tf.keras.Model, \n",
    "    max_steps: int) -> Tuple[tf.Tensor, tf.Tensor, tf.Tensor]:\n",
    "  \"\"\"Runs a single episode to collect training data.\"\"\"\n",
    "\n",
    "  action_probs = tf.TensorArray(dtype=tf.float32, size=0, dynamic_size=True)\n",
    "  values = tf.TensorArray(dtype=tf.float32, size=0, dynamic_size=True)\n",
    "  rewards = tf.TensorArray(dtype=tf.int32, size=0, dynamic_size=True)\n",
    "\n",
    "  initial_state_shape = initial_state.shape\n",
    "  state = initial_state\n",
    "\n",
    "  for t in tf.range(max_steps):\n",
    "    # Convert state into a batched tensor (batch size = 1)\n",
    "    state = tf.expand_dims(state, 0)\n",
    "  \n",
    "    # Run the model and to get action probabilities and critic value\n",
    "    action_logits_t, value = model(state)\n",
    "  \n",
    "    # Sample next action from the action probability distribution\n",
    "    action = tf.random.categorical(action_logits_t, 1)[0, 0]\n",
    "    action_probs_t = tf.nn.softmax(action_logits_t)\n",
    "\n",
    "    # Store critic values\n",
    "    values = values.write(t, tf.squeeze(value))\n",
    "\n",
    "    # Store log probability of the action chosen\n",
    "    action_probs = action_probs.write(t, action_probs_t[0, action])\n",
    "  \n",
    "    # Apply action to the environment to get next state and reward\n",
    "    state, reward, done = tf_env_step(action)\n",
    "    state.set_shape(initial_state_shape)\n",
    "  \n",
    "    # Store reward\n",
    "    rewards = rewards.write(t, reward)\n",
    "\n",
    "    if tf.cast(done, tf.bool):\n",
    "      break\n",
    "\n",
    "  action_probs = action_probs.stack()\n",
    "  values = values.stack()\n",
    "  rewards = rewards.stack()\n",
    "  \n",
    "  return action_probs, values, rewards"
   ]
  },
  {
   "cell_type": "markdown",
   "metadata": {
    "id": "lBnIHdz22dIx"
   },
   "source": [
    "### 2. Compute the expected returns\n",
    "\n",
    "The sequence of rewards for each timestep $t$, $\\{r_{t}\\}^{T}_{t=1}$ collected during one episode is converted into a sequence of expected returns $\\{G_{t}\\}^{T}_{t=1}$ in which the sum of rewards is taken from the current timestep $t$ to $T$ and each reward is multiplied with an exponentially decaying discount factor $\\gamma$:\n",
    "\n",
    "$$G_{t} = \\sum^{T}_{t'=t} \\gamma^{t'-t}r_{t'}$$\n",
    "\n",
    "Since $\\gamma\\in(0,1)$, rewards further out from the current timestep are given less weight.\n",
    "\n",
    "Intuitively, expected return simply implies that rewards now are better than rewards later. In a mathematical sense, it is to ensure that the sum of the rewards converges.\n",
    "\n",
    "To stabilize training, the resulting sequence of returns is also standardized (i.e. to have zero mean and unit standard deviation).\n"
   ]
  },
  {
   "cell_type": "code",
   "execution_count": 8,
   "metadata": {
    "execution": {
     "iopub.execute_input": "2022-12-20T03:08:09.245767Z",
     "iopub.status.busy": "2022-12-20T03:08:09.245281Z",
     "iopub.status.idle": "2022-12-20T03:08:09.251421Z",
     "shell.execute_reply": "2022-12-20T03:08:09.250653Z"
    },
    "id": "jpEwFyl315dl"
   },
   "outputs": [],
   "source": [
    "def get_expected_return(\n",
    "    rewards: tf.Tensor, \n",
    "    gamma: float, \n",
    "    standardize: bool = True) -> tf.Tensor:\n",
    "  \"\"\"Compute expected returns per timestep.\"\"\"\n",
    "\n",
    "  n = tf.shape(rewards)[0]\n",
    "  returns = tf.TensorArray(dtype=tf.float32, size=n)\n",
    "\n",
    "  # Start from the end of `rewards` and accumulate reward sums\n",
    "  # into the `returns` array\n",
    "  rewards = tf.cast(rewards[::-1], dtype=tf.float32)\n",
    "  discounted_sum = tf.constant(0.0)\n",
    "  discounted_sum_shape = discounted_sum.shape\n",
    "  for i in tf.range(n):\n",
    "    reward = rewards[i]\n",
    "    discounted_sum = reward + gamma * discounted_sum\n",
    "    discounted_sum.set_shape(discounted_sum_shape)\n",
    "    returns = returns.write(i, discounted_sum)\n",
    "  returns = returns.stack()[::-1]\n",
    "\n",
    "  if standardize:\n",
    "    returns = ((returns - tf.math.reduce_mean(returns)) / \n",
    "               (tf.math.reduce_std(returns) + eps))\n",
    "\n",
    "  return returns"
   ]
  },
  {
   "cell_type": "markdown",
   "metadata": {
    "id": "qhr50_Czxazw"
   },
   "source": [
    "### 3. The Actor-Critic loss\n",
    "\n",
    "Since you're using a hybrid Actor-Critic model, the chosen loss function is a combination of Actor and Critic losses for training, as shown below:\n",
    "\n",
    "$$L = L_{actor} + L_{critic}$$"
   ]
  },
  {
   "cell_type": "markdown",
   "metadata": {
    "id": "nOQIJuG1xdTH"
   },
   "source": [
    "#### The Actor loss\n",
    "\n",
    "The Actor loss is based on [policy gradients with the Critic as a state dependent baseline](https://www.youtube.com/watch?v=EKqxumCuAAY&t=62m23s) and computed with single-sample (per-episode) estimates.\n",
    "\n",
    "$$L_{actor} = -\\sum^{T}_{t=1} \\log\\pi_{\\theta}(a_{t} | s_{t})[G(s_{t}, a_{t})  - V^{\\pi}_{\\theta}(s_{t})]$$\n",
    "\n",
    "where:\n",
    "- $T$: the number of timesteps per episode, which can vary per episode\n",
    "- $s_{t}$: the state at timestep $t$\n",
    "- $a_{t}$: chosen action at timestep $t$ given state $s$\n",
    "- $\\pi_{\\theta}$: is the policy (Actor) parameterized by $\\theta$\n",
    "- $V^{\\pi}_{\\theta}$: is the value function (Critic) also parameterized by $\\theta$\n",
    "- $G = G_{t}$: the expected return for a given state, action pair at timestep $t$\n",
    "\n",
    "A negative term is added to the sum since the idea is to maximize the probabilities of actions yielding higher rewards by minimizing the combined loss.\n",
    "\n",
    "<br>"
   ]
  },
  {
   "cell_type": "markdown",
   "metadata": {
    "id": "Y304O4OAxiAv"
   },
   "source": [
    "##### The Advantage\n",
    "\n",
    "The $G - V$ term in our $L_{actor}$ formulation is called the [Advantage](https://spinningup.openai.com/en/latest/spinningup/rl_intro.html#advantage-functions), which indicates how much better an action is given a particular state over a random action selected according to the policy $\\pi$ for that state.\n",
    "\n",
    "While it's possible to exclude a baseline, this may result in high variance during training. And the nice thing about choosing the critic $V$ as a baseline is that it trained to be as close as possible to $G$, leading to a lower variance.\n",
    "\n",
    "In addition, without the Critic, the algorithm would try to increase probabilities for actions taken on a particular state based on expected return, which may not make much of a difference if the relative probabilities between actions remain the same.\n",
    "\n",
    "For instance, suppose that two actions for a given state would yield the same expected return. Without the Critic, the algorithm would try to raise the probability of these actions based on the objective $J$. With the Critic, it may turn out that there's no Advantage ($G - V = 0$), and thus no benefit gained in increasing the actions' probabilities and the algorithm would set the gradients to zero.\n",
    "\n",
    "<br>"
   ]
  },
  {
   "cell_type": "markdown",
   "metadata": {
    "id": "1hrPLrgGxlvb"
   },
   "source": [
    "#### The Critic loss\n",
    "\n",
    "Training $V$ to be as close possible to $G$ can be set up as a regression problem with the following loss function:\n",
    "\n",
    "$$L_{critic} = L_{\\delta}(G, V^{\\pi}_{\\theta})$$\n",
    "\n",
    "where $L_{\\delta}$ is the [Huber loss](https://en.wikipedia.org/wiki/Huber_loss), which is less sensitive to outliers in data than squared-error loss.\n"
   ]
  },
  {
   "cell_type": "code",
   "execution_count": 9,
   "metadata": {
    "execution": {
     "iopub.execute_input": "2022-12-20T03:08:09.255552Z",
     "iopub.status.busy": "2022-12-20T03:08:09.255307Z",
     "iopub.status.idle": "2022-12-20T03:08:09.260218Z",
     "shell.execute_reply": "2022-12-20T03:08:09.259448Z"
    },
    "id": "9EXwbEez6n9m"
   },
   "outputs": [],
   "source": [
    "huber_loss = tf.keras.losses.Huber(reduction=tf.keras.losses.Reduction.SUM)\n",
    "\n",
    "def compute_loss(\n",
    "    action_probs: tf.Tensor,  \n",
    "    values: tf.Tensor,  \n",
    "    returns: tf.Tensor) -> tf.Tensor:\n",
    "  \"\"\"Computes the combined Actor-Critic loss.\"\"\"\n",
    "\n",
    "  advantage = returns - values\n",
    "\n",
    "  action_log_probs = tf.math.log(action_probs)\n",
    "  actor_loss = -tf.math.reduce_sum(action_log_probs * advantage)\n",
    "\n",
    "  critic_loss = huber_loss(values, returns)\n",
    "\n",
    "  return actor_loss + critic_loss"
   ]
  },
  {
   "cell_type": "markdown",
   "metadata": {
    "id": "HSYkQOmRfV75"
   },
   "source": [
    "### 4. Define the training step to update parameters\n",
    "\n",
    "All of the steps above are combined into a training step that is run every episode. All steps leading up to the loss function are executed with the `tf.GradientTape` context to enable automatic differentiation.\n",
    "\n",
    "This tutorial uses the Adam optimizer to apply the gradients to the model parameters.\n",
    "\n",
    "The sum of the undiscounted rewards, `episode_reward`, is also computed in this step. This value will be used later on to evaluate if the success criterion is met.\n",
    "\n",
    "The `tf.function` context is applied to the `train_step` function so that it can be compiled into a callable TensorFlow graph, which can lead to 10x speedup in training.\n"
   ]
  },
  {
   "cell_type": "code",
   "execution_count": 10,
   "metadata": {
    "execution": {
     "iopub.execute_input": "2022-12-20T03:08:09.263994Z",
     "iopub.status.busy": "2022-12-20T03:08:09.263757Z",
     "iopub.status.idle": "2022-12-20T03:08:09.274819Z",
     "shell.execute_reply": "2022-12-20T03:08:09.274101Z"
    },
    "id": "QoccrkF3IFCg"
   },
   "outputs": [],
   "source": [
    "optimizer = tf.keras.optimizers.Adam(learning_rate=0.01)\n",
    "\n",
    "\n",
    "@tf.function\n",
    "def train_step(\n",
    "    initial_state: tf.Tensor, \n",
    "    model: tf.keras.Model, \n",
    "    optimizer: tf.keras.optimizers.Optimizer, \n",
    "    gamma: float, \n",
    "    max_steps_per_episode: int) -> tf.Tensor:\n",
    "  \"\"\"Runs a model training step.\"\"\"\n",
    "\n",
    "  with tf.GradientTape() as tape:\n",
    "\n",
    "    # Run the model for one episode to collect training data\n",
    "    action_probs, values, rewards = run_episode(\n",
    "        initial_state, model, max_steps_per_episode) \n",
    "\n",
    "    # Calculate the expected returns\n",
    "    returns = get_expected_return(rewards, gamma)\n",
    "\n",
    "    # Convert training data to appropriate TF tensor shapes\n",
    "    action_probs, values, returns = [\n",
    "        tf.expand_dims(x, 1) for x in [action_probs, values, returns]] \n",
    "\n",
    "    # Calculate the loss values to update our network\n",
    "    loss = compute_loss(action_probs, values, returns)\n",
    "\n",
    "  # Compute the gradients from the loss\n",
    "  grads = tape.gradient(loss, model.trainable_variables)\n",
    "\n",
    "  # Apply the gradients to the model's parameters\n",
    "  optimizer.apply_gradients(zip(grads, model.trainable_variables))\n",
    "\n",
    "  episode_reward = tf.math.reduce_sum(rewards)\n",
    "\n",
    "  return episode_reward"
   ]
  },
  {
   "cell_type": "markdown",
   "metadata": {
    "id": "HFvZiDoAflGK"
   },
   "source": [
    "### 5. Run the training loop\n",
    "\n",
    "Training is executed by running the training step until either the success criterion or maximum number of episodes is reached.  \n",
    "\n",
    "A running record of episode rewards is kept in a queue. Once 100 trials are reached, the oldest reward is removed at the left (tail) end of the queue and the newest one is added at the head (right). A running sum of the rewards is also maintained for computational efficiency.\n",
    "\n",
    "Depending on your runtime, training can finish in less than a minute."
   ]
  },
  {
   "cell_type": "code",
   "execution_count": 11,
   "metadata": {
    "execution": {
     "iopub.execute_input": "2022-12-20T03:08:09.279251Z",
     "iopub.status.busy": "2022-12-20T03:08:09.278458Z",
     "iopub.status.idle": "2022-12-20T03:10:29.539653Z",
     "shell.execute_reply": "2022-12-20T03:10:29.538571Z"
    },
    "id": "kbmBxnzLiUJx"
   },
   "outputs": [
    {
     "name": "stderr",
     "output_type": "stream",
     "text": [
      "  8%|▊         | 847/10000 [01:34<16:58,  8.99it/s, episode_reward=500, running_reward=476]"
     ]
    },
    {
     "name": "stdout",
     "output_type": "stream",
     "text": [
      "\n",
      "Solved at episode 847: average reward: 475.98!\n",
      "CPU times: total: 2min 22s\n",
      "Wall time: 1min 34s\n"
     ]
    },
    {
     "name": "stderr",
     "output_type": "stream",
     "text": [
      "\n"
     ]
    }
   ],
   "source": [
    "%%time\n",
    "\n",
    "min_episodes_criterion = 100\n",
    "max_episodes = 10000\n",
    "max_steps_per_episode = 500\n",
    "\n",
    "# `CartPole-v1` is considered solved if average reward is >= 475 over 500 \n",
    "# consecutive trials\n",
    "reward_threshold = 475\n",
    "running_reward = 0\n",
    "\n",
    "# The discount factor for future rewards\n",
    "gamma = 0.99\n",
    "\n",
    "# Keep the last episodes reward\n",
    "episodes_reward: collections.deque = collections.deque(maxlen=min_episodes_criterion)\n",
    "\n",
    "t = tqdm.trange(max_episodes)\n",
    "for i in t:\n",
    "    initial_state, info = env.reset()\n",
    "    initial_state = tf.constant(initial_state, dtype=tf.float32)\n",
    "    episode_reward = int(train_step(\n",
    "        initial_state, model, optimizer, gamma, max_steps_per_episode))\n",
    "    \n",
    "    episodes_reward.append(episode_reward)\n",
    "    running_reward = statistics.mean(episodes_reward)\n",
    "  \n",
    "\n",
    "    t.set_postfix(\n",
    "        episode_reward=episode_reward, running_reward=running_reward)\n",
    "  \n",
    "    # Show the average episode reward every 10 episodes\n",
    "    if i % 10 == 0:\n",
    "      pass # print(f'Episode {i}: average reward: {avg_reward}')\n",
    "  \n",
    "    if running_reward > reward_threshold and i >= min_episodes_criterion:  \n",
    "        break\n",
    "\n",
    "print(f'\\nSolved at episode {i}: average reward: {running_reward:.2f}!')"
   ]
  },
  {
   "cell_type": "markdown",
   "metadata": {
    "id": "ru8BEwS1EmAv"
   },
   "source": [
    "## Visualization\n",
    "\n",
    "After training, it would be good to visualize how the model performs in the environment. You can run the cells below to generate a GIF animation of one episode run of the model. Note that additional packages need to be installed for Gym to render the environment's images correctly in Colab."
   ]
  },
  {
   "cell_type": "code",
   "execution_count": 12,
   "metadata": {
    "execution": {
     "iopub.execute_input": "2022-12-20T03:10:29.544033Z",
     "iopub.status.busy": "2022-12-20T03:10:29.543720Z",
     "iopub.status.idle": "2022-12-20T03:10:32.797264Z",
     "shell.execute_reply": "2022-12-20T03:10:32.796292Z"
    },
    "id": "qbIMMkfmRHyC"
   },
   "outputs": [],
   "source": [
    "# Render an episode and save as a GIF file\n",
    "\n",
    "from IPython import display as ipythondisplay\n",
    "from PIL import Image\n",
    "\n",
    "render_env = gym.make(\"CartPole-v1\", render_mode='rgb_array')\n",
    "\n",
    "def render_episode(env: gym.Env, model: tf.keras.Model, max_steps: int): \n",
    "  state, info = env.reset()\n",
    "  state = tf.constant(state, dtype=tf.float32)\n",
    "  screen = env.render()\n",
    "  images = [Image.fromarray(screen)]\n",
    " \n",
    "  for i in range(1, max_steps + 1):\n",
    "    state = tf.expand_dims(state, 0)\n",
    "    action_probs, _ = model(state)\n",
    "    action = np.argmax(np.squeeze(action_probs))\n",
    "\n",
    "    state, reward, done, truncated, info = env.step(action)\n",
    "    state = tf.constant(state, dtype=tf.float32)\n",
    "\n",
    "    # Render screen every 10 steps\n",
    "    if i % 10 == 0:\n",
    "      screen = env.render()\n",
    "      images.append(Image.fromarray(screen))\n",
    "  \n",
    "    if done:\n",
    "      break\n",
    "  \n",
    "  return images\n",
    "\n",
    "\n",
    "# Save GIF image\n",
    "images = render_episode(render_env, model, max_steps_per_episode)\n",
    "image_file = 'cartpole-v1.gif'\n",
    "# loop=0: loop forever, duration=1: play each frame for 1ms\n",
    "images[0].save(\n",
    "    image_file, save_all=True, append_images=images[1:], loop=0, duration=1)"
   ]
  },
  {
   "cell_type": "code",
   "execution_count": 13,
   "metadata": {},
   "outputs": [
    {
     "name": "stdout",
     "output_type": "stream",
     "text": [
      "Collecting git+https://github.com/tensorflow/docs\n",
      "  Cloning https://github.com/tensorflow/docs to c:\\users\\administrator\\appdata\\local\\temp\\pip-req-build-qbtq0uiw\n",
      "  Resolved https://github.com/tensorflow/docs to commit 0c78d6d8ad6ced9178a081d41ead24ae80d88958\n",
      "  Preparing metadata (setup.py): started\n",
      "  Preparing metadata (setup.py): finished with status 'done'\n",
      "Requirement already satisfied: astor in c:\\users\\administrator\\appdata\\local\\programs\\python\\python311\\lib\\site-packages (from tensorflow-docs==0.0.0.dev0) (0.8.1)\n",
      "Requirement already satisfied: absl-py in c:\\users\\administrator\\appdata\\local\\programs\\python\\python311\\lib\\site-packages (from tensorflow-docs==0.0.0.dev0) (1.4.0)\n",
      "Requirement already satisfied: jinja2 in c:\\users\\administrator\\appdata\\local\\programs\\python\\python311\\lib\\site-packages (from tensorflow-docs==0.0.0.dev0) (3.1.2)\n",
      "Requirement already satisfied: nbformat in c:\\users\\administrator\\appdata\\local\\programs\\python\\python311\\lib\\site-packages (from tensorflow-docs==0.0.0.dev0) (5.8.0)\n",
      "Requirement already satisfied: protobuf>=3.12 in c:\\users\\administrator\\appdata\\local\\programs\\python\\python311\\lib\\site-packages (from tensorflow-docs==0.0.0.dev0) (4.22.1)\n",
      "Requirement already satisfied: pyyaml in c:\\users\\administrator\\appdata\\local\\programs\\python\\python311\\lib\\site-packages (from tensorflow-docs==0.0.0.dev0) (6.0)\n",
      "Requirement already satisfied: MarkupSafe>=2.0 in c:\\users\\administrator\\appdata\\local\\programs\\python\\python311\\lib\\site-packages (from jinja2->tensorflow-docs==0.0.0.dev0) (2.1.2)\n",
      "Requirement already satisfied: fastjsonschema in c:\\users\\administrator\\appdata\\local\\programs\\python\\python311\\lib\\site-packages (from nbformat->tensorflow-docs==0.0.0.dev0) (2.16.3)\n",
      "Requirement already satisfied: jsonschema>=2.6 in c:\\users\\administrator\\appdata\\local\\programs\\python\\python311\\lib\\site-packages (from nbformat->tensorflow-docs==0.0.0.dev0) (4.17.3)\n",
      "Requirement already satisfied: jupyter-core in c:\\users\\administrator\\appdata\\roaming\\python\\python311\\site-packages (from nbformat->tensorflow-docs==0.0.0.dev0) (5.3.0)\n",
      "Requirement already satisfied: traitlets>=5.1 in c:\\users\\administrator\\appdata\\roaming\\python\\python311\\site-packages (from nbformat->tensorflow-docs==0.0.0.dev0) (5.9.0)\n",
      "Requirement already satisfied: attrs>=17.4.0 in c:\\users\\administrator\\appdata\\local\\programs\\python\\python311\\lib\\site-packages (from jsonschema>=2.6->nbformat->tensorflow-docs==0.0.0.dev0) (23.1.0)\n",
      "Requirement already satisfied: pyrsistent!=0.17.0,!=0.17.1,!=0.17.2,>=0.14.0 in c:\\users\\administrator\\appdata\\local\\programs\\python\\python311\\lib\\site-packages (from jsonschema>=2.6->nbformat->tensorflow-docs==0.0.0.dev0) (0.19.3)\n",
      "Requirement already satisfied: platformdirs>=2.5 in c:\\users\\administrator\\appdata\\roaming\\python\\python311\\site-packages (from jupyter-core->nbformat->tensorflow-docs==0.0.0.dev0) (3.1.1)\n",
      "Requirement already satisfied: pywin32>=300 in c:\\users\\administrator\\appdata\\roaming\\python\\python311\\site-packages (from jupyter-core->nbformat->tensorflow-docs==0.0.0.dev0) (305)\n"
     ]
    },
    {
     "name": "stderr",
     "output_type": "stream",
     "text": [
      "  Running command git clone --filter=blob:none --quiet https://github.com/tensorflow/docs 'C:\\Users\\Administrator\\AppData\\Local\\Temp\\pip-req-build-qbtq0uiw'\n",
      "\n",
      "[notice] A new release of pip is available: 23.0.1 -> 23.1\n",
      "[notice] To update, run: python.exe -m pip install --upgrade pip\n"
     ]
    }
   ],
   "source": [
    "!pip install git+https://github.com/tensorflow/docs\n"
   ]
  },
  {
   "cell_type": "code",
   "execution_count": 14,
   "metadata": {
    "execution": {
     "iopub.execute_input": "2022-12-20T03:10:32.801881Z",
     "iopub.status.busy": "2022-12-20T03:10:32.801609Z",
     "iopub.status.idle": "2022-12-20T03:10:32.880408Z",
     "shell.execute_reply": "2022-12-20T03:10:32.879601Z"
    },
    "id": "TLd720SejKmf"
   },
   "outputs": [
    {
     "data": {
      "text/html": [
       "<img src=\"data:image/gif;base64,R0lGODlhWAKQAYYAAP////7+/v79/f38+/38+v37+fz6+Pz59/v49fv49Pv38/r28vr18fn07/n07vjz7fjy6/jx6/fw6ffw6Pfv6Pbu5vbu5fXt5PXs4/Xr4vTq4PTq3/Pp3vPo3fLn3PLm2vLm2fHl2PHk1/Dj1vDi1PDi0+/h0u/g0e/g0O7f0O7ezu7eze3dze3dzO3cy+zbyuzbyezayOvZx+vYxerXxOrXw+rWwunVwenUv+jTvujTvejSvOfRu+fQuebPuObPt+XOtuXNteXMs+TMs8qYZZ6MoYiGwIGEyykeFCUcEiIaER4XDxsUDRgSDAUEAgIBAQAAAAAAAAAAAAAAAAAAAAAAAAAAAAAAAAAAAAAAAAAAAAAAAAAAAAAAAAAAAAAAAAAAAAAAAAAAAAAAAAAAAAAAAAAAAAAAAAAAAAAAAAAAAAAAAAAAAAAAAAAAAAAAAAAAAAAAAAAAAAAAAAAAAAAAAAAAAAAAAAAAAAAAAAAAAAAAAAAAAAAAAAAAAAAAACH/C05FVFNDQVBFMi4wAwEAAAAsAAAAAFgCkAEACP8AAQgcSLCgwYMIEypcyLChw4cQI0qcSLGixYsYM2rcyLGjx48gQ4ocSbKkyZMoU6pcybKly5cwY8qcSbOmzZs4c+rcybOnz59AgwodSrSo0aNIkypdyrSp06dQo0qdSrWq1atYs2rdyrWr169gw4odS7as2bNo06pdy7at27dw48qdS7eu3bt48+rdy7ev37+AAwseTLiw4cOIEytezLix48eQI0ueTLmy5cuYM2vezLmz58+gQ4seTbq06dOoU6tezbq169ewY8ueTbu27du4c+vezbu379/AgwsfTry48ePIkytfzry58+fQo0ufTr269evYs2vfzr279+/gw4v/H0++vPnz6NOrX8++vfv38OPLn0+/vv37+PPr38+/v///AAYo4IAEFmjggQgmqOCCDDbo4IMQRijhhBRWaOGFGGao4YYcdujhhyCGKOKIJJZo4okopqjiiiy26OKLMMYo44w01mjjjTjmqOOOPPbo449ABinkkEQWaeSRSCap5JJMNunkk1BGKeWUVFZp5ZVYZqnlllx26eWXYIYp5phklmnmmWimqeaabLbp5ptwxinnnHTWaeedeOap55589unnn4AGKuighBZq6KGIJqrooow26uijkEYq6aSUVmrppZhmqummnHbq6aeghirqqKSWauqpqKaq6qqsturqq7DG/yrrrLTWauutuOaq66689urrr8AGK+ywxBZr7HVEJKvsskQcW5gAzEbrLGEERMvstIMZYO2y2AqGwLbKdhuYAuAmKy5gDJTb7Ll+OaAuu35B8C68fEkwL716VXAvvnhdsC+/dmXwL8B0bTAwwXJ1cDDCcH2wMMNuhfAwxGyNMDHFapVwMcZoobAxx2ap8DHIZLkwMsliwXAyymDJsDLLXtHwMsxc2TAzzVrhcDPOWOmwM89W8fAz0FT5MDTRUgVxNNJQDbE0006pGwTUZan7A9VkqdsD1mOpuwPXYqmbA9hhqXsD2WCpWwPaX6k7A9teqRsD3F2p6wLdXKm7At5bqf+bAt9aqWsC4FmpSwLhWKkrAuJXqQsC41ap6wHkVanLAeVUqasB5lOpiwHnUqlbAehRqTsB6VCpGwHqT6n7AOtRl9sA7E2puwDtTKmbAO5LqXsA70qpWwDwSak7APFIPY28SwEovzxLAzj/vEoFSD89SgdYf71JCWi/PUkLeP+9SA2IPz5ID5h/vkcRqL8+RxS4/75GFsg/P0YY2H+/RRrovz9FHPDf/yTiAQEOECIgMOABHSICBS6QISRw4AMVYgIJThAhKbDgBQ3CAg1ukCAv8OAHBRIDEY5wBib8YA1SuMEbsPCCOXjhBHcgwwf2oIYL/AEOD6i0co0QJuoSwg//X6IuIAzRJerywRFboi4eLJEl6tLBE1eiLhxMUSXqssEVU6IuGmwRJeqSwRdPoi4YjNEk6mrBGUuiLhWskSTqOsEbR6KuEsxRJOoawR1Doq4Q7BEk6vrAHz+irg4MciFQSKQiF8nIRaoLCY2MZCS/KMlKJlJdSbCkJSmpyUiqSwmdlCQnQ+lIZRXBCEcwQhGStQRSNnKUroSCso5Ay1oegQhMiOUiYenKZNnyl03QpSJ5SUoi/PKYwkwkMUNpzGPaMplQWGYnm+lMWkJTmpqkZjWvucVkatOZ3LyiN79pSyeEc4rjJOctn3DOJ6aTCKdM5SqJAM1odrOe+Jxkg/LJw89++vOfAA2oQAdK0IIa9KAITahCF8rQgl6ooZu8J0T1Kc6JUhSdFn2lRDM6zI1y1J4V/agyPcpRbELUpA1FKUNVulCWKtSlCYUpQg9J05ra9KY4zalOd8rTnvr0p0ANqlCHStSiGvWoSE2qUpfK1KY69alQjapUp0rVqlr1qljNqla3ytWuevWrYA2rWMdK1rKa9axoTata18rWtrr1rXCNq1znSte62vWueM2rXvfK17769a+ADaxgB0vYwhr2sLkJCAAsFAGsADYAjwCE/////fv5+/fz+PPt9u/n9u7m9Org8uba8OLU7t7O7NrI6tbC6NK85c625c21yphlnoyhiIbAgYTLX0cvV0ErTzsnRzYjPy8fNykbLyMXJx0THhcPFhELDgsHBwUDAAAACP8AAQgcSLCgQYIPEipc+OCgw4cQHQZgSDGixYsGBVBkiLHjxQEbF3oc+bBASIUkUxY0cDKhypcADrRsCDMlgpk1UybAmXOkAp49Oy4AGvQiA6JFIzpAmvThzAZNL85kENXizAVVI85UkBXizARdnbZEENbhzANlD840kNbgTAJtC84cEBdhSwF1B84MkFcg07QTW/YFoFFwX5CG85pMXJcl47gyH7e9KTntzsplf2IOO3Rz16Oesy4NXfXp4KmnW2LtuzX1SbCsx7oOiTb2Sba2Q8LNvZEub4p4fzPkK1xk38AnBxdOfvhv2cXM8zqOXjcy9biUr7e9rD2t5u5lO4P/Dwt6fNcGzsOaLq6QKvuEq/O2fv8AtnzZ9Gvfvz174+79IfkG4EbBDUgRcQZydFx6XS0X0mCImZcVdA/2NV2FeVmHYV3ZbRgXdx629V2IaYlHYlnlnRgWeqRFtV6CC7kHo0Lx1TXfjAnZZyN+OD6g34780fcfkAH2B5yRwyFpXF7Iqdggg1lF6GRWBEBZ1YUbDaZhln11yGVeIH5Z14hixmVimW2liKZHH7Tp5ptwwjnBTHHWGedAdubp5kwT6Jknnn7aORMFgdYJaKFwKgRBBBJEAIFCFSAK56GStpmQBJhmKkFCFlTqJqWVPqDpqA9c4GmboEo66qoYnPpBqoiuczpqBq7CWqismmpQq0CufoBrphvsCkCvv2LKgbC9iorrAx0g6+qlqybkgbOnKsqoowr1amuv3KLKa7fghiuuntuOW2m55iKKbrqBrssuud++S628nrpL753x3iupvfp+mm+/7f4LMLzDDlwovwAj3O9AAQEALBQBrAA0AI8Ahv////7+/v79/f38+/38+v37+fz6+Pz59/v49fv49Pv38/r28vr18fn07/n07vjz7fjy7Pjx6/fw6ffw6Pbv5/bu5fXt5PXs4/Xr4vTq4PTq3/Pp3vPo3fLn3PLm2vLm2fHl2PHk1/Dj1vDi1PDi0+/h0u/g0e7f0O7ezu7eze3cy+zbyuzbyezayOvZx+vYxerXxOrXw+rWwunVwenUv+jTvujTvejSvOfRu+fQuebPuObPt+XOtuXNteXMs8qYZZ6MoYiGwIGEy2JKMVlDLFdBK0w5JkAwIDUoGhUQCgoHBQAAAAAAAAAAAAAAAAAAAAAAAAAAAAAAAAAAAAAAAAAAAAAAAAAAAAAAAAAAAAAAAAAAAAAAAAAAAAAAAAAAAAAAAAAAAAAAAAAAAAAAAAAAAAAAAAAAAAAAAAAAAAAAAAAAAAAAAAAAAAAAAAAAAAAAAAAAAAAAAAAAAAAAAAAAAAAAAAAAAAAAAAAAAAAAAAAAAAAAAAAAAAAAAAAAAAj/AAEIHEiwoEGDPxIqXPjjoMOHEA0eYEgxosWLBB1QZIixY8QKGxd6HHmQQ0iFJFMOHHEyoUqVKlo2fEkyhkyaJHHcxOlRpg+ePVveANpRJgyiGGWmQHpRpgimFmVugBpRJgWqEGU2wPpQpgGuBwPsBFsQwViyAx+cRQvAwlq0Hd6SJSEX7Iq6XGXgxZpjL1WZPdgSlGlD8ECZLwwLlIlCMQCZIRzL1CC55YTKJxlgDllAsQC/UBOAZgphNNILpol6SA20BGueLF7jnCGbpo7aL2Xy2LyxBm+KLn4zPCF8IYjiCjMgTyhh+Y8FzgkoHoBbpYLqKSNgJ4lh+8gP3j2a/wjfsQV5jDTOX9yhPmrLHc5pOG/h3ITzD84xOI/gXIHzAYoR0F5ECwwIkQQGPpRBgg6BwOBBJzxokAsSFlRDhQTxgOFhLeng3AzOseBcCc554NwFzkHgXALOCaBYARsKxECMAExAowY0hkAjCjS+QKMNNPZAo0w5OCeDcys4R4JzHThngXMPOIeAcwEoZgCNDdBIAY0bVLfEl2CGKWaYSMg05plnAoDmml8eYSaba6oJ55lGvDnnmHLeGWYRCgERhBBBAKGQnngSGuYQCQmh6KJCJGRomHkamiijjBLxKJiREvoDpZxe+mWmem7KKaOeLgHqnaKOqmipp86ZqqqselH66qixXjrpqEnU+qhCo/6ghK6S9vlnoI4CW+qxyCZ7Z6vKespss48+Cy2h0k67rLXJVostm9pui2a33hYa7qXgjoupudGia2i56LJrrrvjBgQALBUBrAA3AI8Ahv////7+/v79/f38+/38+v37+fz6+Pz59/v49fv49Pv38/r28vr18fn07/n07vjz7fjy7Pjx6/fw6ffw6Pbv5/bu5fXt5PXs4/Xr4vTq4PTq3/Pp3vPo3fLn3PLm2vLm2fHl2PHk1/Dj1vDi1PDi0+/h0u/g0e7f0O7ezu7eze3cy+zbyuzbyezayOvZx+vYxerXxOrXw+rWwunVwenUv+jTvujTvejSvOfRu+fQuebPuObPt+XOtuXNteXMs8qYZZ6MoYiGwIGEy2JKMVlDLFdBK046J0w5JkMyIUAwIDcpGzUoGiwhFiEYEBUQCgoHBQAAAAAAAAAAAAAAAAAAAAAAAAAAAAAAAAAAAAAAAAAAAAAAAAAAAAAAAAAAAAAAAAAAAAAAAAAAAAAAAAAAAAAAAAAAAAAAAAAAAAAAAAAAAAAAAAAAAAAAAAAAAAAAAAAAAAAAAAAAAAAAAAAAAAAAAAAAAAAAAAAAAAAAAAAAAAAAAAAAAAAAAAAAAAAAAAj/AAEIHEiwoMGDA38oXMjwB8KHECMWPNCwosSLGAk6qNgwo0eJFTgy/EgSIQeRC0uqJDgCpcKVMFW4dAhTZYyZNVXiwJmT5EwfPX26vBH040wYRT3OTJE040wRTTHO3BD14kwKVSXObJA14kwDXR8G4Bn2IAKyZQs+QJt2oAW2bQF0gNuWBN20K+6WlaE3bI6+XWf2iFtwpg3CBGe+QJzQJQrGAmeGgAxgpgbKMydgdslgM8oCkAUAzppgdFUIpqNeSN3UA+ukJV4XZSE76IzaPXXgzjmTh2eRNX5zdCG84oniDUEgZ5hh+UIJzhUuiP6DAOQBu2sqyA4zAveVGL6r//wgvqSJ8iRboP9IY73HHe6dutxBnQb1FtRNUP9AHQP1CNQpQN0AkBEQH0YLHHiRBApKlEGDEYEAIUQnTPiQCxYiVEOGB/HAoUEz6UDdDNSxQF0J1HlA3QXUQUBdAtQJAFkBHxbEQI0ETYDjQBrsKFAIPgKAQpAvBGlDkD0EOVMO1MlA3QrUkUBdB9RZQN0D1CFAXQCQGRBkA0FSEOQG30Fh5ploppnmEjOp6aaaBL0p55lJtDnnm3He+eYRduqZZp5+plmEQkAEIUQQQDAU6J8DLZrmED8IIemkQizk6JmAXhoppZT+QMSlZmbqKKekGgEqFKIuSiqnSJyaaqCrUmqqhKuNnhrrpEzQKtCpUNwqaRO6AsDrpqv+4ESwwxLb6Q9PIHvqQoUemqhCvL7K67XYZuuntdo626223H7raLjiBkpuuXqei+6c6q6LZ63ugtpuvIzuSu+l894bKrz6bstvv3fmq6/A9wYEACwZAawAPACPAIb////+/v7+/f39/Pv9/Pr9+/n8+vj8+ff7+PX7+PT79/P69vL69fH59O/59O748+348uz48ev38On38Oj27ub27uX17eT17OP16+L06uD06t/z6d7z6N3y59zy5try5tnx5djx5Nfw49bw4tTw4tPv4dLv4NHu39Du3s7u3s3t3czt3Mvs28rs28ns2sjr2cfr2MXq18Tq18Pq1sLp1cHp1L/o077o073o0rzn0bvn0Lnmz7jmz7flzrblzbXlzLPkzLPKmGWejKGIhsCBhMtSPilMOSZGNCM/Lx84KhwyJhksIRYlHBIeFw8YEgwSDQkLCAUFBAIAAAAAAAAAAAAAAAAAAAAAAAAAAAAAAAAAAAAAAAAAAAAAAAAAAAAAAAAAAAAAAAAAAAAAAAAAAAAAAAAAAAAAAAAAAAAAAAAAAAAAAAAAAAAAAAAAAAAAAAAAAAAAAAAAAAAAAAAAAAAAAAAAAAAAAAAAAAAAAAAAAAAAAAAAAAAAAAAAAAAAAAAI/wABCBxIsKDBgwWDKFzIMAjChxAjQiTQsKLEixgfIqjYMKPHjww4MvxI8iIEkQtLqnxIAaXClTALYnDpMKZNDjRt2gSRUydMEj19qkQRVCjJFkWNeoyRVCnGGk2dSswRVSrEHlWtIqTpQ2tGmjq8YqRpQ+xFmjLMSqTpQm1EmincQqRZQu5DmiHsbnXZQe9Bmhn8GqRJQXBClxEME6TZQPFAmgkcC6RZQDKArHIHYHZ7YLPaBZ7NPggtdgJprxdOa92g2uqH1lJHwHZ6YrZSFraNwsgtlAZvnzh+6+Qh3CbNH5Zp7kju8gZzlDOei3whnaOK6hVNYG8oYjtDD94Xav8Ir9AC+SASzjs4r+C8gfMCJAsoHtMAfZgK7q90oF+lhP4lWQAgSRoM+JEHBnokQoIZmcAgRis8eNELEko0Q4UR3YAhRDts+BAQHu6FEg/n4XAeDefBcB4L551w3gjnfXDeBuddcN4E5z1w3gLnHXDeAJIFEOJBBQxpUAJGFtRAkgRFwORAFTwpUAZSAtBBlSFUWUKVKVTpQpUyVGlDlTpU6UOVNPVwXg5GSeHmm3DGGSdNRchpp5wP3annmzQZsaeeef55J01HCGpnoIbOqZAQQxAxhBALIZFonIhO6qZCRGSqKREKJWHpm5VaGsSmpAahxKduhjopqawugaoUqiZ1yiqpTLwaq6GzbtqErQi9KkWumjrB60G+ApvpE8Ma5OuouQYBRbIFLctsqUFEAS1B0gbBqKOQKuTrrb6GK+64n4JLLqrmnmtpuuomym67gr4L757yzntnvfbi2Wu+1w7Eb78C/YvuvgJPim/BBwuc8L8L8xsQACwiAawAPgCPAIb////+/v7+/f39/Pv9/Pr9+/n8+vj8+ff7+PX7+PT79/P69vL69fH59O/59O748+348uz48ev38On38Oj37+j27+f27ub27uX17eT17OP16+L06uD06t/z6d7z6N3y59zy5try5tnx5djx5Nfw49bw4tTw4tPv4dLv4NHu39Du3s7u3s3t3c3t3czt3Mvs28rs28ns2sjr2cfr2MXq18Tq18Pq1sLp1cHp1L/o077o073o0rzn0bvn0Lnmz7jmz7flzrblzbXlzLPkzLPKmGWejKGIhsCBhMsTDgkSDQkQDAgOCwcNCgYLCAUKBwUIBgQHBQMFBAIDAgECAQEAAAAAAAAAAAAAAAAAAAAAAAAAAAAAAAAAAAAAAAAAAAAAAAAAAAAAAAAAAAAAAAAAAAAAAAAAAAAAAAAAAAAAAAAAAAAAAAAAAAAAAAAAAAAAAAAAAAAAAAAAAAAAAAAAAAAAAAAAAAAAAAAAAAAAAAAAAAAAAAAAAAAAAAAAAAAAAAAI/wABCBxIsKDBgwSJKFzIkAjChxAjSgzQsKLEixgjCqjYMKPHjwIHcGQIsuRFAiMXmlz5sEBKhSxjFjTw0qHMmwdq3ryJQOfOmAl8/lypQOjQkguMHv3IQOnSjA2cPr3oQOrUiA+sXn0IQevWgxG8fi0oQezYgRTMngVgQe3ZC27HYoj7NQPdrRruXt2gdyqHvk87AF7qYfDRD4aHgkj8MwTjnSIe3xwhWSaJyjFLYGZpYvPKE55NoghdMgVpkCpOf2Sh2qOL1hlfwMYIY/bFGLYlysgdcQZviDR+P6whHKGN4gdvIDeIY3nBHM4J6og+cAd1gTyuA+ih3Yf2H9qBaP8Pon2I9ppC1kqsGUR9xJpA3EOs+UP+w5o+7COs2UP/wZo8+GdQTTsIWFBNOhiY0Es5KDhQTTg4KFBNN0gIQE02WFhTDRq+REOHKc0A4kgyjMhRDCZWBEOKDb3AIkMtvLjQCjIqpEKNRKSAIwo4noCjCTiWgCMJOI6Aowg4hoAjCDh+gKMHOHaAIwc4boCjBjhmgCMGOFqAYwU4ToCjBDhGgCMEOD6AowNLUeHmm3DGGWdNSMhpp5wR3annmzUlsaeeef55Z01KCGpnoIbOqVARRhxhRBELLZFonIhO6qZCR2Sq6REKMWHpm5VaSsSmpBLRxKduhjopqaw6gSoVqiZ6yiqpT7waq6GzbgqFrRC9SkWumkbB60O+ApupFMMi5OuouRIxRbIHLctsqUT4equgCzHqKKQKWdurr+CGK+64qX5L7rjXnmtpuuomym67gr4L757yzntnvfbiaW6+6+7Lr7v+/htvwALTS3DB9x6MsL7ELjxwww7vGRAALC0BrAA/AI8Ahv////7+/v79/f38+/38+v37+fz6+Pz59/v49fv49Pv38/r28vr18fn07/n07vjz7fjy6/jx6/fw6ffw6Pfv6Pbu5vbu5fXt5PXs4/Xr4vTq4PTq3/Pp3vPo3fLn3PLm2vLm2fHl2PHk1/Dj1vDi1PDi0+/h0u/g0e/g0O7f0O7ezu7eze3dze3dzO3cy+zbyuzbyezayOvZx+vYxerXxOrXw+rWwunVwenUv+jTvujTvejSvOfRu+fQuebPuObPt+XOtuXNteXMs+TMs8qYZZ6MoYiGwIGEyykeFCUcEiIaER4XDxsUDRgSDBUQChINCQ4LBwsIBQgGBAUEAgIBAQAAAAAAAAAAAAAAAAAAAAAAAAAAAAAAAAAAAAAAAAAAAAAAAAAAAAAAAAAAAAAAAAAAAAAAAAAAAAAAAAAAAAAAAAAAAAAAAAAAAAAAAAAAAAAAAAAAAAAAAAAAAAAAAAAAAAAAAAAAAAAAAAAAAAAAAAAAAAAAAAAAAAAAAAAAAAj/AAEIHEiwoMGDAokoXMiQCMKHECNKTNiwoYCJGDM+rNiQgMaPIDkyNACyJEaRCxGYXAkRpUIFLGMadEmEgcybFFE6wHmTJgSeMmlKABqTZgWiLGleQLqSZgamJmlugFqSZgeqIV1+wPqRZgiuGmmOAJuRZgmyJ12iQDuRpgq2Emm6gBuRJgy6LV3KwLvRJQ2+CGnaAHyQJg7CM13qQFyQJg/GBGn6gDyQZhDKOUUOwQwgCE3OPz5j7iGa8o7SkHOgZnxjNeIargnPiA04Bm2+Lm7jXaGbborecE0AZ0tiOFoRxsmCSA7WA3OuHJ5j1SCdKobqUCtgZzphO9II3ok+/wgPtAF5ngvO40yg/uaB9jILwI85YH5Rl5wB0AzAmeaA/i4VACBKBwwoUgIGcrRAghU1wGBDDzzIUAQSLkRBhQpZgCERGGyowYYcbOjBhiBsKMKGJGxowoYpbMjChi9sGMOGM2xYw4Y3bJjDhjts2MOGP2x4GWZC2LcSEEaa5EOSJfHAJEg6PPkRDlJqZEOVGdGAJUYybDkRDF5K1EKYEalAJkQnnPlQCWoiNEKbB4UAp0EfzFlQB0lWoeeefPbJJxI0+SmooBINaqieSQR6qKGFLiqoEoo66mejkvK5xEJFGHGEEUUsVOmkEX3KJxMKHWHqqUcoJCqflIraBBGoxolKxKp7tvqpE7HmSquetlb6RK6x7lpFr5JCASyqwhLraBTHnppsqLRK0aypz0K06xSwHjvrrsouSkWpuarKLbS0Yqopp56Oa62w7Lbr7ru1kguvu93OK2q99laKb76O7svvof7+O2jAAoO6bsGrEoxwvAcvrK+8DvcLccQAT0zxwBZfbPBDGjsaEAAsOQGsAD4AjwCE/////fv5+/fz+PPt9u/n9u7m9Org8uba8OLU7t7O7NrI6tbC6NK85c625c21yphlnoyhiIbAgYTLX0cvV0ErTzsnRzYjPy8fNykbLyMXJx0THhcPFhELDgsHBwUDAAAACP8AAQgcSLCgwYIPEipc+OCgw4cQIxpkSDGAxIsYI1JkKCCjx48CNy4cALLkRZEKC5hc+RBlQgMsYyJ0eUCmTQAuHyC4KTNnAp4xcyoAyjLnAqIrczJAajKnA6YlG+SECpLBVKoeF1zFilHBVq4SE3wFCxHBWLIOD5xFa9DAWrYECbyFK3DAXLoC7sINoBduX7Y5LdJ1mLPj4IM5SR6e6FLl4pkoYT4mmLPm5IE5d14O6fLnZpwuh342+hk0yqWjXT79LNVlaauuP2uNvdkr7ctib082q/ux2t6L3QI/LHf4YLvG8f4lyzc53eVkA5cuPN2l4s05HWN3KXk7SsveRWr/Dr/RM3mKos8zPJr6dHWUDUq3RvkaOtfZ9D/bzr85N//LvP032W8CPiZcgYsVh+BhyC04WF7OsdWcg4PZx5V07YlkmHojvSeSdpfl1F2INHm40XgkomReiiKlx+JG7HGoEGoyJhQfaxZSBRuFcOEnUmn7/fiZf0JuFmCRlxGI5GQHLvmYgk4u1mCUh0HIo4Q5UpUlVBjW+MCGL1J0XZgMEWAiRSNOVtmZDKGoZmdsLuTimyjFSOZCNAL1wZ589ulnnzlN8Oegg0ZE6KF7TpAToogayuigFCz6aKEQTfpnBQpBEIEEEUCgkKV/OgrqnhYkJMGpqEqQ0Kh9ijrqBQ+kiirrA6zy6SqoGMiqa6173mppBrrKyusHvk6qQbCpDlvsoxsgi6qyldbKgbOnQvsQrx3EiiytvC7LqAem6rpqt9HWmummnX5K7rXDtuvuu/D2Wm6873pL76j23mtpvvo+ym+/jc4LMKv/DkwpuwYTLHDCkxbMsK0LPxwwwhL7G3HFBzuEccMXb9xnQAAsRAGsADkAjwCG/////v7+/v39/fz7/fz6/fv5/Pr4/Pn3+/j1+/j0+/fz+vby+vXx+fTv+fTu+PPt+PLs+PHr9/Dp9/Do9u7m9u7l9e3k9ezj9evi9Org9Orf8+ne8+jd8ufc8uba8ubZ8eXY8eTX8OPW8OLU8OLT7+HS7+DR7t/Q7t7O7t7N7d3M7dzL7NvK7NvJ7NrI69nH69jF6tfE6tfD6tbC6dXB6dS/6NO+6NO96NK859G759C55s+45s+35c625c215cyz5MyzyphlnoyhiIbAgYTLUj4pTDkmRjQjPy8fOCocMiYZCwgFBQQCAAAAAAAAAAAAAAAAAAAAAAAAAAAAAAAAAAAAAAAAAAAAAAAAAAAAAAAAAAAAAAAAAAAAAAAAAAAAAAAAAAAAAAAAAAAAAAAAAAAAAAAAAAAAAAAAAAAAAAAAAAAAAAAAAAAAAAAAAAAAAAAAAAAAAAAAAAAAAAAAAAAAAAAAAAAAAAAAAAAAAAAAAAAAAAAAAAAAAAAAAAAACP8AAQgcSLCgQYFBEipcGOSgw4cQIwJgSJGAxIsYDVJkiCCjR4wbFzL4SBJiSIUQSqrUeDIIhZUwEbbEEBNmyyAcaq68CUKnypskfJa8iUIoyZstjH68GUOpx5s1nGa8mUMqyJY9rF70cVOrRB1dvUK0EVasQxllzRp0kVYtwRRt3QosEVduiLpuO+BVm2GvWQp+xUYI7LUBYa0JDlstoNhqY6k3B8hlefLA5II3F1wmePPB5oE3J3yWefLC6IktN5y++WF1yxGuT56IHZIF7Y0wblOkoZshjt4LeZz+8VjpjuJGbyAXOmO5zxfOdaqIXtME9ZgirsP0oH2lhu4qLYD/LylhPEkH5j8qSO/RAPuMAt5PbSkAuEID9hMqyB/EAX8J/FnAnwb8ecCfCPyZwN8K/L3A3wz83cDfDvwBcRoP8l2EQ4YS0cBhRDB8CBELIj50QokOjYDiQR+saNAGLhZ0QYwETUDjQA/cKNACOgJwQI8D9IjaSQHwVwB/CfDXAH8R8FcBfxnw1wF/IfBXAn8p8OcCfzLwZwN/OvDnw2k99JhDd02kqeaabLJZxE1txtmmQXLWqaYRcNopJ516ynlEnn2yyWegbCKRkBBDEDGEEAsRKmhBjrKZRBBEVGopEQpFquagmipx6acJaZomp5F+amoQojZBqqOmgprqqoS2a3opqqLCGqisltKqqa194lqprpHyqucSuIZaK6SpMkHpqcbuimyqhya6aKPHEpTqtdhmq+2mz267rbDeBtttuNiCS26g5p6rZ7rq1sluu3G+C++j1s5b7UD23itQvs7Wyy+h8vIbcL4D2xsQACxKAawAOgCPAIT////9+/n79/P48+327+f27ub06uDy5trw4tTu3s7s2sjq1sLo0rzlzrblzbXKmGWejKGIhsCBhMtfRy9XQStPOydHNiM/Lx8OCwcHBQMAAAAAAAAAAAAAAAAAAAAAAAAI/wABCBxIsKBBgQ8SKlz44KDDhxAjImTIMIDEixgPUmQoIKPHjBsXDvhIMmJIhQVKqtR48oGBlTAHtnxwIGbMmQhswpyZQOfKmQp8qpy5QGjJmQyMkpzpQOnHBjOdemQQVSrGBVWtSlSQVSvEBF29OkQQVqzBA2XNEjSQVq1AAm3dDoirVgBdswHumtUrdqZFtyxPdgRscOZIwgVnpkRMcOZLxjJb1oQ88WROygB4Ys7cMihmopuRhm7ZFDPUlpuposaMdTVlrq4hg43NmCxtxGhvE2arGzDc3nL5arULXG3e4mqFa/U7WnDzkIcpK36+8bF0ydQpXr5+sufnztkZFv/9fjIp+ZANNp8+mVq51NbsMcOOT3k2fci27zPOrR8x7/6E/QYgYHMhJxZxA7p1XIJuuScVc+dtNBh30IW30GIUVmehQpNlqN2GCXnnIUOejbjQeCYqZF6KCaVnmoNKqcagWfCFtNl8NmJmX46U5ccjZPz9yNh/QiImYJGEFTjjgTAatSCShDVpFIQsPjAhZIaB+AABWlqHJXYRfhgmQyJ+eVKJZoaEYpobrRiTBnDGKeecc840AZ140nlQnnzGOcFMffK5Z6B5UgAooXoahCieFSQEQQQSRADBQovOOWilcVrwgAScdiqBQpjGeWmoF3hqakKhwjkqpqa2+kCqGqx4Wmmrp8Iq66K0evpqqrcimmunu4baK6G/chospsMGisGvqPKqKKwZbOpqs8I+C6ujkEpKqbMFwertt+CGK2ey4lbbbbnlkovuouquS2i77vYJb7x5zktvoufeyy1B+tpqbb+V2gtwrP8O/G7BBsuLcML1LswwnQEBACxRAawAOACPAIT////9+/n79/P48+327+f27ub06uDy5trw4tTu3s7s2sjq1sLo0rzlzrblzbXKmGWejKGIhsCBhMtfRy9XQStPOydHNiM/Lx83KRsvIxcnHRMeFw8WEQsOCwcHBQMAAAAI/wABCBxIsGDBBwgTKnxgsKHDhxAPLlwYIKLFiw4nLhSAsWNHjQoHeBwZEWTCAiRTNjSJ0IDKlwNZPjgAE6ZMBDVfykyQU6VMBT1TylwQlKRMBkVHynSQ1GMDmU07MoAa9eICqlUjKsCa9WECrl0bIgAbtuABsmUHGkCbFgABtmkHwC0rYG7YAHbD5u0qs2JbgzI5/pVoUuRggjJRHo7J0uVigTJpPgZwczJlljwn/7Q8lDNLpJpZMp38lKXlqaYnX039eCvrxV9fHx4re/DZ2n/X4m77dnfcvVXr+i6Ld3hZ4FX7ejYp+LFMw85ZKo5u0jF1kJKva8QZ2mRm7ROBdv8HSXS8RtDgFzawXNrkaeRNV7uf7Hr+49j2F9POf/g2/8G6/fdXbwK2JZdxXQlXYFrFLZgWfE0pZ95EzS323HIgTWdhYxhqlN2GJnGXnkLfgQiSeCMmVF6KCKFnokbrkQZhUag5GJZ8IFlWX46T4cfjY/v9uJh/Qh4WYJGDEYjkXwfamOCMQTW45F9QBiUhiw9UeNiFEy5EQIcTWffiRB9uyZKIYy5UopkmoZimQiu+mZCLL31g55145omnTBPo6aefBf0pqJ0TyDTooIEe6icFhioKKEGO6llBQhBEIEEEECQUqZ6JbmqnBQhJIOqoEiDkKZ6denrBA6S2+sCpd6aDuikGrdYKq52yRppBra3e+kGujmrAK6m+AqvoBsOOWiyksHKQrKjLDnRrB6wO++qtxh7qQai1moots7BSaimmmn4rra/opqtutAKt6y6u4L6bbrbybkpvvY7ei++h+u4raL/+PnpuwKcCTDCq8R6cb8IK88tww/8+DLHA7U6sqMENBwQALFYBrAA1AI8AhP////37+fv38/jz7fbv5/bu5vTq4PLm2vDi1O7ezuzayOrWwujSvOXOtuXNtcqYZZ6MoYiGwIGEy19HL1dBK087J0c2Iz8vHzcpGy8jFycdEx4XDxYRCw4LBwcFAwAAAAj/AAEIHEiwoMAHCBMqfGCwocOHEA8uXBggosWLBScuFICxo0WNCgd4HOkQZMICJFMSNInQgMqXLB8ceKkyJgKaKWMmwEkypgKeI2MuAOoxJgOiHWM6QIqxQUymFxk8hRpxwVSqDxVcxdowwVauBRF8BTvwwFiyAAycJUtgLdgBbrkKiIs1AF2sd6nGrIg2I0uOfVeyFBl4YEyUhSWadJkYQMyZjW02dsxyZ2SWPy+bHKoZ5NHOGpc2dspystTSja2iTqx1dWGvrgOLjd3XLG20am+zzcsUrm6wc39ztSucK2+meyfHBJw4JuHmLBFDX6ycJeTpIG+CnmgZu8bM3idy/w6/8DN5hQ0mkzZp+jhR1ewbt46fGDb9wrPvB7atv2/u/mi1VRxVvgFIVnAGgkVcgmC5R1Ry221UnUnPFXbYhCAxdl5C11nIknYbItSdhyaBRyJI452okXkqTpTeaA7ydBqDWMEH0mTz3diYfTomll+PhfEHZGD/DdmXgDQSGCNOCBqJ1oJOorUkThCG+ABzLS5UYWAxEYChRhpmqVCHXH74JXdnLmRimZulqRCLJH0g55x01klnTBPYqaeeAu3pp5wTxPTnn30OqicFghrKJwCK2llBQhBEIEEEECTUqJ2FXiqnBQhJ4OmnEiCkKZ2ZanrBA6Cm+sCoc5Z6KQapxnbKqpyuNppBrKnO+kGtimqAK6i68mroBr9+GiyjrHJQrKfHztoBqr+uOquwg3rQaayiTossq5BKSqml2uoq7rjkskptueZuiy655657abvuKgpvvIPOS6+f9t67qL7N8puuv/8CrGm+Au+qbsH1HowwvgovrGdAACxWAawANQCPAIb////+/v7+/f39/Pv9/Pr9+/n8+vj8+ff7+PX7+PT79/P69vL69fH59O/59O748+348uv48ev38On38Oj37+j27ub27uX17eT17OP16+L06uD06t/z6d7z6N3y59zy5try5tnx5djx5Nfw49bw4tTw4tPv4dLv4NHv4NDu39Du3s7u3s3t3c3t3czt3Mvs28rs28ns2sjr2cfr2MXq18Tq18Pq1sLp1cHp1L/o077o073o0rzn0bvn0Lnmz7jmz7flzrblzbXlzLPkzLPKmGWejKGIhsCBhMspHhQlHBIiGhEeFw8bFA0YEgwVEAoSDQkOCwcLCAUIBgQFBAICAQEAAAAAAAAAAAAAAAAAAAAAAAAAAAAAAAAAAAAAAAAAAAAAAAAAAAAAAAAAAAAAAAAAAAAAAAAAAAAAAAAAAAAAAAAAAAAAAAAAAAAAAAAAAAAAAAAAAAAAAAAAAAAAAAAAAAAAAAAAAAAAAAAAAAAAAAAAAAAAAAAAAAAAAAAAAAAI/wABCBxIsOBAIggTKiRisKHDhxAFLpwoIKLFiwUnLiSAsaNFjQoNeBzpEGRCBCRTEjSJUIHKlyyJMHipMqYDmiljQsBJMqYEniNjVgDqMeYFoh1jZkCKMeYGphdjdoD6keUHqhFjhsAKMeYIrg9jlgBbkiUKsg1jqkBrMKYLthlZwoC7kqUMugdZ0sArkaUNvgBi4gAcUwdhljwOm/ShGGSQxhqHAA4SE/CPynx7YMa7YzPdHJ7h3gjNtgZptDNOk42hGqyL1lxXwMaaYjZVE7ahksjNVARvpCB+E/UgHCiH4jw1IMeJYTnNCs5fToiuMgL1lA+uk2ygfeSC7h4TgP/veGA8xgLmLw5IH5Ul4MAsA0CeOGD+wgL2FR7InzABf4QL/EdEAwI+IGAEAlIgoAUCYiCgBgJyIKAHAoIgoAgCkiCgCQKmICALAr4gYAwCziBgDQLeIGAOAu4gYA8C/iDgY3wJwV5EQNwIkQ86PsRDjw7pAGRDOAxpkA1GFkRDkgTJwORAMDwpUAtSAqBClSdUWUKVI1QZQpUfVNkBdVWUaeaZaJ6JRExpttmmQG7GWWYSbMoZJ5x2tqlEnXmmiWefZy6RUBFGHGFEEQkB6icAip7JBEJHRCrpEQg1euafjTZBxKScEmGpmZgq6gSnpH5aZqiAPkEqp6ZWgWqfUKxpOmmrr+YZhayS0srop1LgGqmupk6xqayemlqrnVRASmqlxu766aCFHppos61WK+ex1mar7bauOsuttdh+C2i44uZJbrnXeouupeeu+6a67o4Lb7zmzktvuvc22m6+3fIrr7997puvQAEBACxUAa0ANQCOAIL////KmGWejKGIhsCBhMsAAAAAAAAAAAAI/wABCBxIsGDBAAgTKgxgsKHDhxAFLpwYsaJFgxMXXtxoMaNCjiAfekwYsuTBkQxNqkSZUmVJli5NwowZciZNjjZvXsypsyLPnhB/AnUodChGlEZ9Ik0adClTok6fHh0pFSrVqlM9Ys2acevJq14lRvVaVGrZp2eZpk261mjboW+Bxu05V2fdm3dp5o2512XflWO3/pUZGOvgl4WrHq6Z2GxjtI/VRmY72W1luJflZqa72W5nvJ/1huY72m9pwGDDLga5GudpwqnJvkYcW/BsxrUN32a923Vuxb03thYefGfxjseV/na8HHJzyc8pR7c8HXN1zdc5Z/e8HXR30d9Jh/A3PR611rBiy8M+j364cfW02atOHtE9cvi45cvGz5u/b/22+UecgO8BqBuB9xkIHILKKcicgxYVIOGEFFZYIUsWZpihQBp2OCGGHnbIYYgagkiihSOeeCFCAgxAwAACJKQiigDMuCIBOOZIAEI2UphijwHoKGQAPU74o41CJlmkhEfOmKSQSxbQpIpP6hjllCdWmeOVNS6pJY5cRhlklUQuiSWJCD3Jo5ldFplQiy/GuGaRZ0Zpp5Rt3qnnnnxumGefdtYJqIqCDkpioYZ6iGiiGi7KKI2PshkpnX9OemilliqKaaaNbsoppJ9eGuqlAQEALFMBrAA0AI8Agv///8qYZZ6MoYiGwIGEywAAAAAAAAAAAAj/AAEIHEiwYMEACBMqDGCwocOHEAEsnBixosWDExVe3Fgxo0aOIBt6TBiyJMGRCE2qRMlQZUmWLl+ijBkSJk2ONm9ezKmz48yeFnkCfSh0qMifRokiTXp0JFOlTp829Sh1asaqBotW1SqV61OvTMEmFWuU7FCzQNH2VKuT7U23NOHGlOuS7sqlWCXixWrXZF+ZUfMK/Ftz71bDXRF/VRyW8VjHZSGflZyW8lrLbTG/1RyX81zPdUHfDSyYMEjTOEX7VQ2YquDBrAuTzot6Y+2dsU/nTj2b727bv3H3Pjw8cfHFxxsnf7w8cvPJzytHvzw9c/XN1ztn/7w9dPfRrl/f6A4anPz31edbX32tN73s8KXL+3Svmz5v+LTlRxw/H79v+8ABKJx/xBFonIHIIaicgswx6JyD0EHoUAEUVmjhhReyhOGGGwLA4YcVagjihx6OyKGIJmJYYooZIiTAAAQMIEBCLKpYY4sE5KgjAQjdaOGKPgaw45AB+FghkDcOqaSRFCJZo5JDMlmAkyxCuaOUVKZopY5YSrlljl0yKaSVRTKZpYkIQdmjmVIm9GKMM65p5JlS1jmlnXjmqSeJe+pJZ58s/gmoiYIOCmKhhnKIaKI2Mjqno49CeuOikt5ZaaCXYpopoZsSGhAALGYBrAAMAHwAhv////7+/v79/f38+/38+v37+fz6+Pz59/v49fv49Pv38/r28vr18fn07/n07vjz7fjy7Pjx6/fw6ffw6Pfv6Pbv5/bu5vbu5fXt5PXs4/Xr4vTq4PTq3/Pp3vPo3fLn3PLm2vLm2fHl2PHk1/Dj1vDi1PDi0+/h0u/g0e7f0O7ezu7eze3dze3dzO3cy+zbyuzbyezayOvZx+vYxerXxOrXw+rWwunVwenUv+jTvujTvejSvOfRu+fQuebPuObPt+XOtuXNteXMs+TMs8qYZZ6MoYiGwIGEyxMOCRINCRAMCA4LBw0KBgsIBQoHBQgGBAcFAwUEAgMCAQIBAQAAAAAAAAAAAAAAAAAAAAAAAAAAAAAAAAAAAAAAAAAAAAAAAAAAAAAAAAAAAAAAAAAAAAAAAAAAAAAAAAAAAAAAAAAAAAAAAAAAAAAAAAAAAAAAAAAAAAAAAAAAAAAAAAAAAAAAAAAAAAAAAAAAAAAAAAAAAAAAAAAAAAAAAAAAAAAAAAj/AIkIHEiQCICCCAMgLChgIcEBDgcSiCiwAEUiBi4euIjgYoKLCi4uuMjgYoOLDi4+uAjhYoSLEi5SuGjh4oWLGC5muKjh4oaLHC52uOjh4oeLIC6GuCji4oiLJC6WuGji4omLKC6muKjiIouLLi6+uAjjYoyLMi7OuEjjYo2LNi7euIjjYo6LOi7uuMjjYo+LPi7+uAjkYpCLQ4QYJiwYsF++evHapSsXrlu2atGaJSv2YouLK7hqxWqVqlSoTpkqRWqUqFCgPnnqxEnzYoWLE2C6ZKkS5UUkF5NcVHJxycAiRo4YKTKQicAj0KMfEdiEiPTrRJxc3/5k+3Uo3qVHDAkfXQp56FOshycSEAAsUQGtADUAjgCG/////v7+/v39/fz7/fz6/fv5/Pr4/Pn3+/j1+/j0+/fz+vby+vXx+fTv+fTu+PPt+PLs+PHr9/Dp9/Do9+/o9u/n9u7m9u7l9e3k9ezj9evi9Org9Orf8+ne8+jd8ufc8uba8ubZ8eXY8eTX8OPW8OLU8OLT7+HS7+DR7t/Q7t7O7t7N7d3N7d3M7dzL7NvK7NvJ7NrI69nH69jF6tfE6tfD6tbC6dXB6dS/6NO+6NO96NK859G759C55s+45s+35c625c215cyz5MyzyphlnoyhiIbAgYTLEw4JEg0JEAwIDgsHDQoGCwgFCgcFCAYEBwUDBQQCAwIBAgEBAAAAAAAAAAAAAAAAAAAAAAAAAAAAAAAAAAAAAAAAAAAAAAAAAAAAAAAAAAAAAAAAAAAAAAAAAAAAAAAAAAAAAAAAAAAAAAAAAAAAAAAAAAAAAAAAAAAAAAAAAAAAAAAAAAAAAAAAAAAAAAAAAAAAAAAAAAAAAAAAAAAAAAAAAAAAAAAACP8AAQgcSLBgwQBEEipcSMSgw4cQIwIQwLCixIsYCw6oyDCjx4sEOC78SPJhAZEKS6okaABlwpUwD7hsCFMlgpk1VSbAmZOkAp49PS4AGhQjA6JFJTZAmhSiA6ZNHT6AGrUgBKpVB0bAmhWABK5ZKYCtamFs1Atmm2JImzQD26Ia3gbdILcnh7o5O+Ct6WEvzA9+V4IIrDIE4ZIiDpMcofgjicYeS0DOaGIyxhOWL6LILDEF54gqPkNkIfqhi9IOX6A2CGN1wRiuCcqIPXAGbYE0bgOooduG7hu6cejOoVuH7h26eejuoduH7h+6gegOonuI7plCukKcGUT7w5lAvDv/nPlDvMGZPswXnNlDPcGZPNwPnLlDvsCZOuwDmJlD/0wc/rl0Q4Ao2UCgSDUcyBENClY0Q4MMyQDhQjFMqBAMFib0QoZEtMDhChyqwGEKHKLA4QkcmsBhCRySwOEIHIrAYQgcgsDhBxx6wGEHHHLA4QYcasBhBhxiwKEFHFbA4QQcSsBhBBxCwOEDHDoAExVYZqnlllvOhASXYHIpUJhkZjlTEmWSOWaaYc6kBJtgrglnlwkVYcQRRhSh0BJzbilnn1gmdMSghB6REBOAZvknoEQU6igRTSSK5aJ9OmqpE5JSQemcljr6RKabwtlpoVCACkCmVIxKaBSmoqrqoFK0VZppo6MSMYWskgpqaUKohsqmQnbiqSevuKJqbJynHqvsssyqmWyzyvoKbZ/STgtntdamiW22znLb67PeArptuH6CS+615p6rbbrqdtsuuu/CG++6AQEALGUBrAAMAHwAgv///8qYZZ6MoYiGwIGEywAAAAAAAAAAAAjFAAMIHEgwAICCCA8iJKhwocCGDiEulJjQ4UCKBTEytPiQo0GPGi+CHMkxZMeSJC2a/IiypcqUEWFOlFnRZUybM3HWfKkzI02fPTcGFTn0JM+jN5HmVLozqdOlT5tCnSq1KlCmV6NmpbrVqlCsX7WG5TrWK1GwZ8WmJbvWrFG1b9nGdcsS7dyueMvmbbv3rt6/fAH7DUx4sMACHhFzVBxAwAACAwQMVEygsmUChwNc3hygwObPnj9fDi26MunSp0UjLo25QEAALFABrAA0AI8Agv///8qYZZ6MoYiGwIGEywAAAAAAAAAAAAj/AAEIHEiwYMEACBMqDGCwocOHEAEsnBixosWDExVe3Fgxo0aOIBt6TBiyJMGRCE2qRMlQZUmWLl+ijBkSJk2ONm9ezKmz48yeFnkCfSh0qMifRokiTXp0JFOlTp829Sh1asaqBotW1SqV61OvTMEmFWuU7FCzQNH2VKuT7U23NOHGlOuS7sqlWCXixWrXZF+ZUfMK/Ftz71bDXRF/VRyW8VjHZSGflZyW8lrLbTG/1RyX81zPdUHfDSyYMEjTOEX7VQ2YquDBrAuTzot6Y+2dsU/nTj2b727bv3H3Pjw8cfHFxxsnf7w8cvPJzytHvzw9c/XN1ztn/7w9dPfRrl/f6A4anPz31edbX32tN73s8KXL+3Svmz5v+LTlRxw/H79v+8ABKJx/xBFonIHIIaicgswx6JyD0EHoUAEUVmjhhReyhOGGGwLA4YcVagjihx6OyKGIJmJYYooZIiTAAAQMIEBCLKpYY4sE5KgjAQjdaOGKPgaw45AB+FghkDcOqaSRFCJZo5JDMlmAkyxCuaOUVKZopY5YSrlljl0yKaSVRTKZpYkIQdmjmVIm9GKMM65p5JlS1jmlnXjmqSeJe+pJZ58s/gmoiYIOCmKhhnKIaKI2Mjqno49CeuOikt5ZaaCXYpopoZsSGhAALGMBrAAMAHwAhv////7+/v79/f38+/38+v37+fz6+Pz59/v49fv49Pv38/r28vr18fn07/n07vjz7fjy7Pjx6/fw6ffw6Pfv6Pbv5/bu5vbu5fXt5PXs4/Xr4vTq4PTq3/Pp3vPo3fLn3PLm2vLm2fHl2PHk1/Dj1vDi1PDi0+/h0u/g0e7f0O7ezu7eze3dze3dzO3cy+zbyuzbyezayOvZx+vYxerXxOrXw+rWwunVwenUv+jTvujTvejSvOfRu+fQuebPuObPt+XOtuXNteXMs+TMs8qYZZ6MoYiGwIGEyxMOCRINCRAMCA4LBw0KBgsIBQoHBQgGBAcFAwUEAgMCAQIBAQAAAAAAAAAAAAAAAAAAAAAAAAAAAAAAAAAAAAAAAAAAAAAAAAAAAAAAAAAAAAAAAAAAAAAAAAAAAAAAAAAAAAAAAAAAAAAAAAAAAAAAAAAAAAAAAAAAAAAAAAAAAAAAAAAAAAAAAAAAAAAAAAAAAAAAAAAAAAAAAAAAAAAAAAAAAAAAAAj/AIkIHEiQCICCCAMgLChgIcEBDgcSiCiwAEUiBi4euIjgYoKLCi4uuMjgYoOLDi4+uAjhYoSLEi5SuGjh4oWLGC5muKjh4oaLHC52uOjh4oeLIC6GuCji4oiLJC6WuGji4omLKC6muKjiIouLLi6+uAjjYoyLMi7OuEjjYo2LNi7euIjjYo6LOi7uuMjjYo+LPi7+uAjkYpCLQ4QYJiwYsF++evHapSsXrlu2atGaJSv2YouLK7hqxWqVqlSoTpkqRWqUqFCgPnnqxEnzYoWLE2C6ZKkS5UUkF5NcVHJxycAiRo4YKTKQicAj0KMfEdiEiPTrRJxc3/5k+3Uo3qVHDAkfXQp56FOshycSEAAsTwGtADQAjgCC////yphlnoyhiIbAgYTLAAAAAAAAAAAACP8AAQgcSLBgwQAIEyoMYLChw4cQASycGLGixYMTFV7cWDGjRo4gG3pMGLIkwZEITapEyVBlSZYuX6KMGRImTY42b17MqbPjzJ4WeQJ9KHSoyJ9GiSJNenQkU6VOnzb1KHVqxqoGi1bVKpXrU69MwSYVa5TsULNA0fZUq5PtTbc04caU65LuyqVYJeLFatdkX5lR8wr8W3PvVsNdEX9VHJbxWMdlIZ+VnJbyWsttMb/VHJfzXM91Qd8NLJgwSNM4RftVDZiq4MGsC5POi3pj7Z2xT+dOPZvvbtu/cfc+PDxx8cXHGyd/vDxy88nPK0e/PD1z9c3XO2f/vD1099GuX9/mDhqc/PfV51tffa03vezwpcv7dK+bPm/4tOVHHD8fv2/7wAEonH/EEWicgcghqJyCzDHonIMPFSDhhBRWWCFLFmaYIQAadjghhh52yGGIGoJIooUjnnghQgIMQMAAAiSkIoozrkjAjTgSgFCNFKbIYwA5BhkAjxP6WGOQSBIpoZEzIhmkkgUwqaKTOUIp5YlU4mgllFneuKWSQFI5pJJXkoiQkzuSCWVCLb4YY5pElgnlnFHSaeedeIqYJ55y7qlin36SCGigHg5KqIaGHkqjonEy2qijNSYKaZ2T/lmppZcKmqmgAQEALGIBrAAMAHwAhv////7+/v79/f38+/38+v37+fz6+Pz59/v49fv49Pv38/r28vr18fn07/n07vjz7fjy7Pjx6/fw6ffw6Pfv6Pbv5/bu5vbu5fXt5PXs4/Xr4vTq4PTq3/Pp3vPo3fLn3PLm2vLm2fHl2PHk1/Dj1vDi1PDi0+/h0u/g0e7f0O7ezu7eze3dze3dzO3cy+zbyuzbyezayOvZx+vYxerXxOrXw+rWwunVwenUv+jTvujTvejSvOfRu+fQuebPuObPt+XOtuXNteXMs+TMs8qYZZ6MoYiGwIGEyxMOCRINCRAMCA4LBw0KBgsIBQoHBQgGBAcFAwUEAgMCAQIBAQAAAAAAAAAAAAAAAAAAAAAAAAAAAAAAAAAAAAAAAAAAAAAAAAAAAAAAAAAAAAAAAAAAAAAAAAAAAAAAAAAAAAAAAAAAAAAAAAAAAAAAAAAAAAAAAAAAAAAAAAAAAAAAAAAAAAAAAAAAAAAAAAAAAAAAAAAAAAAAAAAAAAAAAAAAAAAAAAj/AIkIHEiQCICCCAMgLChgIcEBDgcSiCiwAEUiBi4euIjgYoKLCi4uuMjgYoOLDi4+uAjhYoSLEi5SuGjh4oWLGC5muKjh4oaLHC52uOjh4oeLIC6GuCji4oiLJC6WuGji4omLKC6muKjiIouLLi6+uAjjYoyLMi7OuEjjYo2LNi7euIjjYo6LOi7uuMjjYo+LPi7+uAjkYpCLQ4QYJiwYsF++evHapSsXrlu2atGaJSv2YouLK7hqxWqVqlSoTpkqRWqUqFCgPnnqxEnzYoWLE2C6ZKkS5UUkF5NcVHJxycAiRo4YKTKQicAj0KMfEdiEiPTrRJxc3/5k+3Uo3qVHDAkfXQp56FOshycSEAAsTQGtADUAjgCG/////v7+/v39/fz7/fz6/fv5/Pr4/Pn3+/j1+/j0+/fz+vby+vXx+fTv+fTu+PPt+PLs+PHr9/Dp9/Do9+/o9u/n9u7m9u7l9e3k9ezj9evi9Org9Orf8+ne8+jd8ufc8uba8ubZ8eXY8eTX8OPW8OLU8OLT7+HS7+DR7t/Q7t7O7t7N7d3N7d3M7dzL7NvK7NvJ7NrI69nH69jF6tfE6tfD6tbC6dXB6dS/6NO+6NO96NK859G759C55s+45s+35c625c215cyz5MyzyphlnoyhiIbAgYTLEw4JEg0JEAwIDgsHDQoGCwgFCgcFCAYEBwUDBQQCAwIBAgEBAAAAAAAAAAAAAAAAAAAAAAAAAAAAAAAAAAAAAAAAAAAAAAAAAAAAAAAAAAAAAAAAAAAAAAAAAAAAAAAAAAAAAAAAAAAAAAAAAAAAAAAAAAAAAAAAAAAAAAAAAAAAAAAAAAAAAAAAAAAAAAAAAAAAAAAAAAAAAAAAAAAAAAAAAAAAAAAACP8AAQgcSLBgwQBEEipcSMSgw4cQIwIQwLCixIsYCw6oyDCjx4sEOC78SPJhAZEKS6okaABlwpUwD7hsCFMlgpk1VSbAmZOkAp49PS4AGhQjA6JFJTZAmhSiA6ZNHT6AGrUgBKpVB0bAmhWABK5ZKYCtamFs1Atmm2JImzQD26Ia3gbdILcnh7o5O+Ct6WEvzA9+V4IIrDIE4ZIiDpMcofgjicYeS0DOaGIyxhOWL6LILDEF54gqPkNkIfqhi9IOX6A2CGN1wRiuCcqIPXAGbYE0bgOooduG7hu6cejOoVuH7h26eejuoduH7h+6gegOonuI7plCukKcGUT7w5lAvDv/nPlDvMGZPswXnNlDPcGZPNwPnLlDvsCZOuwDmJlD/0wc/rl0Q4Ao2UCgSDUcyBENClY0Q4MMyQDhQjFMqBAMFib0QoZEtMDhChyqwGEKHKLA4QkcmsBhCRySwOEIHIrAYQgcgsDhBxx6wGEHHHLA4QYcasBhBhxiwKEFHFbA4QQcSsBhBBxCwOEDHDoAExVYZqnlllvOhASXYHIpUJhkZjlTEmWSOWaaYc6kBJtgrglnlwkVYcQRRhSh0BJzbilnn1gmdMSghB6REBOAZvknoEQU6igRTSSK5aJ9OmqpE5JSQemcljr6RKabwtlpoVCACkCmVIxKaBSmoqrqoFK0VZppo6MSMYWskgpqaUKohsqmQnbiqSevuKJqbJynHqvsssyqmWyzyvoKbZ/STgtntdamiW22znLb67PeArptuH6CS+615p6rbbrqdtsuuu/CG++6AQEALE0BrAA0AI8Ahv////7+/v79/f38+/38+v37+fz6+Pz59/v49fv49Pv38/r28vr18fn07/n07vjz7fjy7Pjx6/fw6ffw6Pfv6Pbv5/bu5vbu5fXt5PXs4/Xr4vTq4PTq3/Pp3vPo3fLn3PLm2vLm2fHl2PHk1/Dj1vDi1PDi0+/h0u/g0e7f0O7ezu7eze3dze3dzO3cy+zbyuzbyezayOvZx+vYxerXxOrXw+rWwunVwenUv+jTvujTvejSvOfRu+fQuebPuObPt+XOtuXNteXMs+TMs8qYZZ6MoYiGwIGEyxMOCRINCRAMCA4LBw0KBgsIBQoHBQgGBAcFAwUEAgMCAQIBAQAAAAAAAAAAAAAAAAAAAAAAAAAAAAAAAAAAAAAAAAAAAAAAAAAAAAAAAAAAAAAAAAAAAAAAAAAAAAAAAAAAAAAAAAAAAAAAAAAAAAAAAAAAAAAAAAAAAAAAAAAAAAAAAAAAAAAAAAAAAAAAAAAAAAAAAAAAAAAAAAAAAAAAAAAAAAAAAAj/AAEIHEiwYEEiCBMqJGKwocOHEAEsnBggosWLBCcuFICxY0SNCgd4HNkQZEICJFMONImwgEqVLIkYeJky5gGaJGMiwDkyZgKeHmMqANox5gKiGGMyQHoxZgOmFmM6gPqR5QOqEGNCwPowZgSuDmNKAFuSJQWyBmNaQHuQ5QW2GVligLuSZQa6AmNqwCuR5Qa+MTkAZtlhsEkPhkF+SKwRBOOJIR4vFCFZ4YjKCUlgRlhiMxETnk94RuE5hWcVnll4duH5hWcYnmN4luF5hmcanmt4tuH5hmccnnN41uF5h2cennt49uH5h2cgnoN4HsJXSEy+Qa7jBaKd7o/ucH2A/2fbYzxaHubJ7kgPVgd7rjneY8Uhn+qN+lBt4GdaYz9SGv4RNUOAQMlAIE8xHIgTDArS9EKDL7UAoUorTJiSChaSlEKGI6HAoUcnfNiRCSJiVEKJF5GAokUjrBiRCC5CFEKMD4FAo0Mf3NiQBzoa1EGPBXEAJEEbDDmQBkYKlEGSAGDApAVMVsDkBExKwGQETELA5ANMOjAhFWCGKeaYYiIRE5looglAmmyCmcSZbbK5ZpxoKgEnnWTOiaeYSyRUhBFHGFFEQnvmWaiYTCB0xKKMHoHQoWLqeWgTRDRqKRGQhilpoU5Y6mmmYG665xOeWgoqFaLiCUWpjZ6aKp1RsFXKqKugSiHrorRmOkWlrGIK6qt0Kurpo7+e6iegghJa7KnMNuvsocA+m2m00kJbrbTUXotnttrGyW23coLL7LfiGlrutOeim6616xZKbrvvrhtvugEBACxNAawANACPAIb////+/v7+/f39/Pv9/Pr9+/n8+vj8+ff7+PX7+PT79/P69vL69fH59O/59O748+348uz48ev38On38Oj37+j27+f27ub27uX17eT17OP16+L06uD06t/z6d7z6N3y59zy5try5tnx5djx5Nfw49bw4tTw4tPv4dLv4NHu39Du3s7u3s3t3c3t3czt3Mvs28rs28ns2sjr2cfr2MXq18Tq18Pq1sLp1cHp1L/o077o073o0rzn0bvn0Lnmz7jmz7flzrblzbXlzLPkzLPKmGWejKGIhsCBhMsTDgkSDQkQDAgOCwcNCgYLCAUKBwUIBgQHBQMFBAIDAgECAQEAAAAAAAAAAAAAAAAAAAAAAAAAAAAAAAAAAAAAAAAAAAAAAAAAAAAAAAAAAAAAAAAAAAAAAAAAAAAAAAAAAAAAAAAAAAAAAAAAAAAAAAAAAAAAAAAAAAAAAAAAAAAAAAAAAAAAAAAAAAAAAAAAAAAAAAAAAAAAAAAAAAAAAAAAAAAAAAAI/wABCBxIsKBBIggTKiRisKHDhxADLJwIsaLFhgImLrzI8eIAjQo7inxIAGTCkSgLFjCJMKVLAAZYMnyJ8oBMmigR3MQpMsFOnhwV/ARqccFQohAZHEXqsMFSpgYdPIVK8MFUqgIhXMUaYStVCV6hUgjL1AJZpBfOEsWgFmiGtjw1wMW5YS5NDnZfdsjr0gPflB/+ogQheGSIwiJFIO44YjFHEo4vlohs0QTliicuQ0Sh+WGKzg5VgG7IYrRBF6YLvkhNEAbrgTFeC5QhG8CM2jRq16hto/aN2jhq56ito/aO2jxq96jto/aP2kBqB6k9pLZMIVgfygyS3aFMIN0byv/8Ef4gSx/lC8rskZ6gTB7tB8rcEV+gTB31AcjMkV8mjv4s3QCgSTYMCFINBmpEQ4ITzcDgQjI8qFAMEiYEQ4UIvYAhES1suMKGKmyYwoYobHjChiZsWMKGJGw4woYibBjChiBs+MGGHmzYwYYcbLjBhhpsmMGGGGxowYYVbDjBhhJsGMGGEGz4wIYOuETFlVhmqaWWMiGx5ZdbAgDmmFjKlASZY4qJJpgyKbHml2q+ySVCRRhxhBFFJLSEnFrGyeeVCB0h6KBHIMTEn1j6+ScRhDZKRBOIXqkon41W6kSkVEwqZ6WNPoGppm9ySigUn2JKhaiDRlEqpqgKKsWqkTJNKioRU8CKaKCVImQqqGsmVOedeepqq6nEhlnsscgmm6ayyfLKLJ/OPvtmtNKiSW21y2I7rLZyXsttn98i6m24kpILrbndojutumsCEBAALGEBrAAMAHwAgv///8qYZZ6MoYiGwIGEywAAAAAAAAAAAAjFAAMIHEgwAICCCA8iJKhwocCGDiEulJjQ4UCKBTEytPiQo0GPGi+CHMkxZMeSJC2a/IiypcqUEWFOlFnRZUybM3HWfKkzI02fPTcGFTn0JM+jN5HmVLozqdOlT5tCnSq1KlCmV6NmpbrVqlCsX7WG5TrWK1GwZ8WmJbvWrFG1b9nGdcsS7dyueMvmbbv3rt6/fAH7DUx4sMACHhFzVBxAwAACAwQMVEygsmUChwNc3hygwObPnj9fDi26MunSp0UjLo25QEAALEwBrAA0AI8Agv///8qYZZ6MoYiGwIGEywAAAAAAAAAAAAj/AAEIHEiwYMEACBMqDGCwocOHEAEsnBixosWDExVe3Fgxo0aOIBt6TBiyJMGRCE2qRMlQZUmWLl+ijBkSJk2ONm9ezKmz48yeFnkCfSh0qMifRokiTXp0JFOlTp829Sh1asaqBotW1SqV61OvTMEmFWuU7FCzQNH2VKuT7U23NOHGlOuS7sqlWCXixWrXZF+ZUfMK/Ftz71bDXRF/VRyW8VjHZSGflZyW8lrLbTG/1RyX81zPdUHfDSyYMEjTOEX7VQ2YquDBrAuTzot6Y+2dsU/nTj2b727bv3H3Pjw8cfHFxxsnf7w8cvPJzytHvzw9c/XN1ztn/7w9dPfRrl/f6A4anPz31edbX32tN73s8KXL+3Svmz5v+LTlRxw/H79v+8ABKJx/xBFonIHIIaicgswx6JyD0EHoUAEUVmjhhReyhOGGGwLA4YcVagjihx6OyKGIJmJYYooZIiTAAAQMIEBCLKpYY4sE5KgjAQjdaOGKPgaw45AB+FghkDcOqaSRFCJZo5JDMlmAkyxCuaOUVKZopY5YSrlljl0yKaSVRTKZpYkIQdmjmVIm9GKMM65p5JlS1jmlnXjmqSeJe+pJZ58s/gmoiYIOCmKhhnKIaKI2Mjqno49CeuOikt5ZaaCXYpopoZsSGhAALEsBrQA0AI4Ahv////7+/v79/f38+/38+v37+fz6+Pz59/v49fv49Pv38/r28vr18fn07/n07vjz7fjy7Pjx6/fw6ffw6Pfv6Pbv5/bu5vbu5fXt5PXs4/Xr4vTq4PTq3/Pp3vPo3fLn3PLm2vLm2fHl2PHk1/Dj1vDi1PDi0+/h0u/g0e7f0O7ezu7eze3dze3dzO3cy+zbyuzbyezayOvZx+vYxerXxOrXw+rWwunVwenUv+jTvujTvejSvOfRu+fQuebPuObPt+XOtuXNteXMs+TMs8qYZZ6MoYiGwIGEyxMOCRINCRAMCA4LBw0KBgsIBQoHBQgGBAcFAwUEAgMCAQIBAQAAAAAAAAAAAAAAAAAAAAAAAAAAAAAAAAAAAAAAAAAAAAAAAAAAAAAAAAAAAAAAAAAAAAAAAAAAAAAAAAAAAAAAAAAAAAAAAAAAAAAAAAAAAAAAAAAAAAAAAAAAAAAAAAAAAAAAAAAAAAAAAAAAAAAAAAAAAAAAAAAAAAAAAAAAAAAAAAj/AAEIHEiwYMEARBIqXEjEoMOHECMKYEgxosWLDgdQZIixI0YCGxd6HAmxQEiFJFMWNHAyocqXAA60bAgzJYKZNVMmwJlzpAKePTsuABr0IgOiRSM2QJr0oQOmTQ0+gBqVIASqVQVGwJpVAteqFL5GtSC26YWySTGgLZphbVANbntuiJuTA92aHe7C9KD35Ye+KkEAThliMEkRhkeOSOyRBOOOJR5jNCH54onKFlFgjphiM0QVnh+yCO3QBWmDL04XhKGaYIzWA2XAFjhjNgAatmvYtmH7hm0ctnPY1mF7h20etnvY9mH7h20gtoPYHmJ7ppCsEGcGwf5wJhDuDmf+/wBvcKYP8gVn9kBPcCYP9gNn7oAvcKYO+gBm5sA/Ewf/ljf8d5INAoZUQ4Eb0YAgRTMsyJAMDi4UQ4QKwUBhQi9cSEQLGq6goQoapqAhChqeoKEJGpagIQkajqChCBqGoCEIGn6goQcadqAhBxpuoKEGGmagIQYaWqBhBRpOoKEEGkagIQQaPqChAy9RYeWVWGaZ5UxIaOmllgB8KeaVMyUxpphhnvnlTEqo6WWabm6ZUBFGHGFEEQotEWeWcO5pZUJHBCroEQkx4eeVffpJxKCMEtHEoVYmuiejlDoBKRWSxkkpo09cmqmbmw4KhaeXUhGqoFGQeumpgUqhKqSLhkxKxBSvHgoopQmV+qmaCtFpJ5651lrqsGASa+yxyKKZLLK7Lrtns866CW20Z05LrbLXCpttnNZuy6e3h3YLbqTjPlsut+dKm66aAAQEACxLAa0ANACOAIL////KmGWejKGIhsCBhMsAAAAAAAAAAAAI/wABCBxIsKDBAAgTKgxgsKHDhxABLJwYsaLFghMXXtxYMaNCjiAdekwYsiTBkQhNqkTJUGVJli5foowZEiZNjjZvXsyps+PMnhZ5An0odGjDokYx/kwqcinTg06fnowqVSBSqVefZmW6NWlXo1+HhgU6tmdZnWdvpqW5NmZbl29XUq0a12RdmSOrQs2rdyrfvlbnYhWslTBXw14Rg1UsljFZx2Yho5WsljJby24xw9Us9y/guzU52xWN1yPggaBBpsZJOrTnvqs3xt7ZWnVt1q/1zg56W3Zv2rnp/uYdfHDxwscPJ0+8fHHzxs8fR488fXL1ytcvZ8+8fXP3zqZPS+Qc7vP7aPOlM4ofj951+NO7y7//TD5ifPv1Id7Xn59o/6bt2RYgbvPB9t9RB+5VoG4JKjWgb98VIOGEFFZYIUsWZpghABp2OCGGHnbIYYgagkiihSOeeCFCAgxAwAACJKQiijOuSMCNOBKAUI0UpshjADkGGQCPE/pYY5BIEimhkTMiGaSSBTCpopM5QinliVTiaCWUWd64pZJAUjmkkleSiJCTO5IJZUItvhhjmkSWCeWcdNapoZx28ohnnjPuyeeJfv4ZYqCCilgonYQeSqOiajIap6OPQlpjopJSCqmljmLKaEAALF8BrAAMAHwAhv////7+/v79/f38+/38+v37+fz6+Pz59/v49fv49Pv38/r28vr18fn07/n07vjz7fjy7Pjx6/fw6ffw6Pfv6Pbv5/bu5vbu5fXt5PXs4/Xr4vTq4PTq3/Pp3vPo3fLn3PLm2vLm2fHl2PHk1/Dj1vDi1PDi0+/h0u/g0e7f0O7ezu7eze3dze3dzO3cy+zbyuzbyezayOvZx+vYxerXxOrXw+rWwunVwenUv+jTvujTvejSvOfRu+fQuebPuObPt+XOtuXNteXMs+TMs8qYZZ6MoYiGwIGEyxMOCRINCRAMCA4LBw0KBgsIBQoHBQgGBAcFAwUEAgMCAQIBAQAAAAAAAAAAAAAAAAAAAAAAAAAAAAAAAAAAAAAAAAAAAAAAAAAAAAAAAAAAAAAAAAAAAAAAAAAAAAAAAAAAAAAAAAAAAAAAAAAAAAAAAAAAAAAAAAAAAAAAAAAAAAAAAAAAAAAAAAAAAAAAAAAAAAAAAAAAAAAAAAAAAAAAAAAAAAAAAAj/AIkIHEiQCICCCAMgLChgIcEBDgcSiCiwAEUiBi4euIjgYoKLCi4uuMjgYoOLDi4+uAjhYoSLEi5SuGjh4oWLGC5muKjh4oaLHC52uOjh4oeLIC6GuCji4oiLJC6WuGji4omLKC6muKjiIouLLi6+uAjjYoyLMi7OuEjjYo2LNi7euIjjYo6LOi7uuMjjYo+LPi7+uAjkYpCLQ4QYJiwYsF++evHapSsXrlu2atGaJSv2YouLK7hqxWqVqlSoTpkqRWqUqFCgPnnqxEnzYoWLE2C6ZKkS5UUkF5NcVHJxycAiRo4YKTKQicAj0KMfEdiEiPTrRJxc3/5k+3Uo3qVHDAkfXQp56FOshycSEAAsSwGtADQAjgCC////yphlnoyhiIbAgYTLAAAAAAAAAAAACP8AAQgcSLBgwQAIEyoMYLChw4cQASycGLGixYMTFV7cWDGjRo4gG3pMGLIkwZEITapEyVBlSZYuX6KMGRImTY42b17MqbPjzJ4WeQJ9KHSoyJ9GiSJNenQkU6VOnzb1KHVqxqoGi1bVKpXrU69MwSYVa5TsULNA0fZUq5PtTbc04caU65LuyqVYJeLFatdkX5lR8wr8W3PvVsNdEX9VHJbxWMdlIZ+VnJbyWsttMb/VHJfzXM91Qd8NLJgwSNM4RftVDZiq4MGsC5POi3pj7Z2xT+dOPZvvbtu/cfc+PDxx8cXHGyd/vDxy88nPK0e/PD1z9c3XO2f/vD1099GuX9/mDhqc/PfV51tffa03vezwpcv7dK+bPm/4tOVHHD8fv2/7wAEonH/EEWicgcghqJyCzDHonIMPFSDhhBRWWCFLFmaYIQAadjghhh52yGGIGoJIooUjnnghQgIMQMAAAiSkIoozrkjAjTgSgFCNFKbIYwA5BhkAjxP6WGOQSBIpoZEzIhmkkgUwqaKTOUIp5YlU4mgllFneuKWSQFI5pJJXkoiQkzuSCWVCLb4YY5pElgnlnFHSaeedeIqYJ55y7qlin36SCGigHg5KqIaGHkqjonEy2qijNSYKaZ2T/lmppZcKmqmgAQEALEoBrQA0AI4Ahv////7+/v79/f38+/38+v37+fz6+Pz59/v49fv49Pv38/r28vr18fn07/n07vjz7fjy7Pjx6/fw6ffw6Pfv6Pbv5/bu5vbu5fXt5PXs4/Xr4vTq4PTq3/Pp3vPo3fLn3PLm2vLm2fHl2PHk1/Dj1vDi1PDi0+/h0u/g0e7f0O7ezu7eze3dze3dzO3cy+zbyuzbyezayOvZx+vYxerXxOrXw+rWwunVwenUv+jTvujTvejSvOfRu+fQuebPuObPt+XOtuXNteXMs+TMs8qYZZ6MoYiGwIGEyxMOCRINCRAMCA4LBw0KBgsIBQoHBQgGBAcFAwUEAgMCAQIBAQAAAAAAAAAAAAAAAAAAAAAAAAAAAAAAAAAAAAAAAAAAAAAAAAAAAAAAAAAAAAAAAAAAAAAAAAAAAAAAAAAAAAAAAAAAAAAAAAAAAAAAAAAAAAAAAAAAAAAAAAAAAAAAAAAAAAAAAAAAAAAAAAAAAAAAAAAAAAAAAAAAAAAAAAAAAAAAAAj/AAEIHEiwYMEARBIqXEjEoMOHECMKYEgxosWLDgdQZIixI0YCGxd6HAmxQEiFJFMWNHAyocqXAA60bAgzJYKZNVMmwJlzpAKePTsuABr0IgOiRSM2QJr0oQOmTQ0+gBqVIASqVQVGwJpVAteqFL5GtSC26YWySTGgLZphbVANbntuiJuTA92aHe7C9KD35Ye+KkEAThliMEkRhkeOSOyRBOOOJR5jNCH54onKFlFgjphiM0QVnh+yCO3QBWmDL04XhKGaYIzWA2XAFjhjNgAatmvYtmH7hm0ctnPY1mF7h20etnvY9mH7h20gtoPYHmJ7ppCsEGcGwf5wJhDuDmf+/wBvcKYP8gVn9kBPcCYP9gNn7oAvcKYO+gBm5sA/Ewf/ljf8d5INAoZUQ4Eb0YAgRTMsyJAMDi4UQ4QKwUBhQi9cSEQLGq6goQoapqAhChqeoKEJGpagIQkajqChCBqGoCEIGn6goQcadqAhBxpuoKEGGmagIQYaWqBhBRpOoKEEGkagIQQaPqChAy9RYeWVWGaZ5UxIaOmllgB8KeaVMyUxpphhnvnlTEqo6WWabm6ZUBFGHGFEEQotEWeWcO5pZUJHBCroEQkx4eeVffpJxKCMEtHEoVYmuiejlDoBKRWSxkkpo09cmqmbmw4KhaeXUhGqoFGQeumpgUqhKqSLhkxKxBSvHgoopQmV+qmaCtFpJ5651lrqsGASa+yxyKKZLLK7Lrtns866CW20Z05LrbLXCpttnNZuy6e3h3YLbqTjPlsut+dKm66aAAQEACxKAawANACPAIb////+/v7+/f39/Pv9/Pr9+/n8+vj8+ff7+PX7+PT79/P69vL69fH59O/59O748+348uz48ev38On38Oj37+j27+f27ub27uX17eT17OP16+L06uD06t/z6d7z6N3y59zy5try5tnx5djx5Nfw49bw4tTw4tPv4dLv4NHu39Du3s7u3s3t3c3t3czt3Mvs28rs28ns2sjr2cfr2MXq18Tq18Pq1sLp1cHp1L/o077o073o0rzn0bvn0Lnmz7jmz7flzrblzbXlzLPkzLPKmGWejKGIhsCBhMsTDgkSDQkQDAgOCwcNCgYLCAUKBwUIBgQHBQMFBAIDAgECAQEAAAAAAAAAAAAAAAAAAAAAAAAAAAAAAAAAAAAAAAAAAAAAAAAAAAAAAAAAAAAAAAAAAAAAAAAAAAAAAAAAAAAAAAAAAAAAAAAAAAAAAAAAAAAAAAAAAAAAAAAAAAAAAAAAAAAAAAAAAAAAAAAAAAAAAAAAAAAAAAAAAAAAAAAAAAAAAAAI/wABCBxIsGBBIggTKiRisKHDhxABLJwYIKLFiwQnLhSAsWNEjQoHeBzZEGRCAiRTDjSJsIBKlSyJGHiZMuYBmiRjIsA5MmYCnh5jKgDaMeYCohhjMkB6MWYDphZjOoD6keUDqhBjQsD6MGYErg5jSgBbkiUFsgZjWkB7kOUFthlZYoC7kmUGugJjasArkeUGvjE5AGbZYbBJD4ZBfkisEQTjiSEeLxQhWeGIyglJYEZYYjMRE55PeEbhOYVnFZ5ZeHbh+YVnGJ5jeJbheYZnGp5reLbh+YZnHJ5zeNbheYdnHp57ePbh+YdnIJ6DeB7CV0hMvkGu4wWine6P7nB9gP9n22M8Wh7mye5ID1YHe6453mPFIZ/qjfpQbeBnWmM/Uhr+ETVDgEDJQCBPMRyIEwwK0vRCgy+1AKFKK0yYkgoWkpRChiOhwKFHJ3zYkQkiYlRCiReRgKJFI6wYkQguQhRCjA+BQKNDH9zYkAc6GtRBjwVxACRBGww5kAZGCpRBkgBgwKQFTFbA5ARMSsBkBExCwOQDTDowIRVghinmmGIiEROZaKIJQJpsgpnEmW2yuWacaCoBJ51kzomnmEskVIQRRxhRREJ75lmomEwgdMSijB6B0KFi6nloE0Q0aikRkIYpaaFOWOpppmBuuucTnloKKhWi4glFqY2emiqdUbBVyqiroEoh66K0ZjpFpaxiCuqrdCrq6aO/nuonoIISWuypzDbr7KHAPptptNJCW6201F6LZ7baxsltt3KCy+y34hpa7rTnopuutesWSm67764bb7oBAQAsSgGtADQAjgCC////yphlnoyhiIbAgYTLAAAAAAAAAAAACP8AAQgcSLBgwQAIEyoMYLChw4cQASycGLGixYMTFV7cWDGjRo4gG3pMGLIkwZEITapEyVBlSZYuX6KMGRImTY42b17MqbPjzJ4WeQJ9KHSoyJ9GiSJNenQkU6VOnzb1KHVqxqoGi1bVKpXrU69MwSYVa5TsULNA0fZUq5PtTbc04caU65LuyqVYJeLFatdkX5lR8wr8W3PvVsNdEX9VHJbxWMdlIZ+VnJbyWsttMb/VHJfzXM91Qd8NLJgwSNM4RftVDZiq4MGsC5POi3pj7Z2xT+dOPZvvbtu/cfc+PDxx8cXHGyd/vDxy88nPK0e/PD1z9c3XO2f/vD1099GuX9/mDhqc/PfV51tffa03vezwpcv7dK+bPm/4tOVHHD8fv2/7wAEonH/EEWicgcghqJyCzDHonIMPFSDhhBRWWCFLFmaYIQAadjghhh52yGGIGoJIooUjnnghQgIMQMAAAiSkIoozrkjAjTgSgFCNFKbIYwA5BhkAjxP6WGOQSBIpoZEzIhmkkgUwqaKTOUIp5YlU4mgllFneuKWSQFI5pJJXkoiQkzuSCWVCLb4YY5pElgnlnFHSaeedeIqYJ55y7qlin36SCGigHg5KqIaGHkqjonEy2qijNSYKaZ2T/lmppZcKmqmgAQEALEoBrQA0AI4Ahv////7+/v79/f38+/38+v37+fz6+Pz59/v49fv49Pv38/r28vr18fn07/n07vjz7fjy7Pjx6/fw6ffw6Pfv6Pbv5/bu5vbu5fXt5PXs4/Xr4vTq4PTq3/Pp3vPo3fLn3PLm2vLm2fHl2PHk1/Dj1vDi1PDi0+/h0u/g0e7f0O7ezu7eze3dze3dzO3cy+zbyuzbyezayOvZx+vYxerXxOrXw+rWwunVwenUv+jTvujTvejSvOfRu+fQuebPuObPt+XOtuXNteXMs+TMs8qYZZ6MoYiGwIGEyxMOCRINCRAMCA4LBw0KBgsIBQoHBQgGBAcFAwUEAgMCAQIBAQAAAAAAAAAAAAAAAAAAAAAAAAAAAAAAAAAAAAAAAAAAAAAAAAAAAAAAAAAAAAAAAAAAAAAAAAAAAAAAAAAAAAAAAAAAAAAAAAAAAAAAAAAAAAAAAAAAAAAAAAAAAAAAAAAAAAAAAAAAAAAAAAAAAAAAAAAAAAAAAAAAAAAAAAAAAAAAAAj/AAEIHEiwYEEiCBMqJBLAoMOHECMunCggosWLDicuHICxI0aNCgl4HAkRZMICJFMeNEnEgMqXAFgSOQBTpUwENVPKTJCTpEwFPUfKXBDUo0wGRTvKbJD0I0sHTS/KfBDVokwIVSWyjJC1JEsJXR/KpBA2I0sLZQ3KvJB2pUkMbQnKzBB3oEwNdQXK3JA3JksOfWV2CMzSA2GTHw6DBKFYY4jGE0VAXjhiskISlhOWyIzQBGciJz6j+Jzis4rPLD67+PziM4zPMT7L+DzjM43PNT7b+HzjM47POT7r+LzjM4/PPT77+PzjM5DPQT4P6StEZt8g1vMCyV73B/e4Pr63/+0hPi2P8mV3oA+rY33XHO6z4ohf9Qb9qDbuN62hPymN/kXNAGBQMgzYUwwG5gRDgjW9wCBMLTz40goSqqRChSmlgCFJKGw40gkeemRCiB2VQCJGJJx40QgqWiRCixGFACNEIMz40Ac2OuRBjgZ1wGNBHPxI0AZCDqRBkQJlgCQAGCxpwZIVLDnBkhIsGcGSECz5wJIOSEjFl2CGKWaYSMg05plnAoDmml8mYSaba6oJ55lKvDnnmHLeGeYSCRVhxBFGFJGQnngSGiYTCB2h6KJHIGRomHka2gQRjFZKxKNgRkqoE5V2iumXmur5RKeVfkpFqHdCQSqjpqI6ZxSrLlPa6qdSxKrorJhOQemql37q6pyJduqor6b2+WeggxJr6rLMNmvor85iCm20z1Ib7bTW3olttnBuy22c3y7rbbiFkiutueeiW626hI7LrrvqwotuQAAsSgGtADQAjgCC////yphlnoyhiIbAgYTLAAAAAAAAAAAACP8AAQgcSLBgwQAIEyoMYLChw4cQASycGLGixYMTFV7cWDGjRo4gG3pMGLIkwZEITapEyVBlSZYuX6KMGRImTY42b17MqbPjzJ4WeQJ9KHSoyJ9GiSJNenQkU6VOnzb1KHVqxqoGi1bVKpXrU69MwSYVa5TsULNA0fZUq5PtTbc04caU65LuyqVYJeLFatdkX5lR8wr8W3PvVsNdEX9VHJbxWMdlIZ+VnJbyWsttMb/VHJfzXM91Qd8NLJgwSNM4RftVDZiq4MGsC5POi3pj7Z2xT+dOPZvvbtu/cfc+PDxx8cXHGyd/vDxy88nPK0e/PD1z9c3XO2f/vD1099GuX9/mDhqc/PfV51tffa03vezwpcv7dK+bPm/4tOVHHD8fv2/7wAEonH/EEWicgcghqJyCzDHonIMPFSDhhBRWWCFLFmaYIQAadjghhh52yGGIGoJIooUjnnghQgIMQMAAAiSkIoozrkjAjTgSgFCNFKbIYwA5BhkAjxP6WGOQSBIpoZEzIhmkkgUwqaKTOUIp5YlU4mgllFneuKWSQFI5pJJXkoiQkzuSCWVCLb4YY5pElgnlnFHSaeedeIqYJ55y7qlin36SCGigHg5KqIaGHkqjonEy2qijNSYKaZ2T/lmppZcKmqmgAQEAOw==\"/>"
      ],
      "text/plain": [
       "<IPython.core.display.HTML object>"
      ]
     },
     "execution_count": 14,
     "metadata": {},
     "output_type": "execute_result"
    }
   ],
   "source": [
    "import tensorflow_docs.vis.embed as embed\n",
    "embed.embed_file(image_file)"
   ]
  },
  {
   "cell_type": "markdown",
   "metadata": {
    "id": "lnq9Hzo1Po6X"
   },
   "source": [
    "## Next steps\n",
    "\n",
    "This tutorial demonstrated how to implement the Actor-Critic method using Tensorflow.\n",
    "\n",
    "As a next step, you could try training a model on a different environment in Gym. \n",
    "\n",
    "For additional information regarding Actor-Critic methods and the Cartpole-v0 problem, you may refer to the following resources:\n",
    "\n",
    "- [The Actor-Critic method](https://hal.inria.fr/hal-00840470/document)\n",
    "- [The Actor-Critic lecture (CAL)](https://www.youtube.com/watch?v=EKqxumCuAAY&list=PLkFD6_40KJIwhWJpGazJ9VSj9CFMkb79A&index=7&t=0s)\n",
    "- [Cart Pole learning control problem \\[Barto, et al. 1983\\]](http://www.derongliu.org/adp/adp-cdrom/Barto1983.pdf) \n",
    "\n",
    "For more reinforcement learning examples in TensorFlow, you can check the following resources:\n",
    "- [Reinforcement learning code examples (keras.io)](https://keras.io/examples/rl/)\n",
    "- [TF-Agents reinforcement learning library](https://www.tensorflow.org/agents)\n"
   ]
  }
 ],
 "metadata": {
  "colab": {
   "collapsed_sections": [
    "_jQ1tEQCxwRx"
   ],
   "name": "actor_critic.ipynb",
   "toc_visible": true
  },
  "kernelspec": {
   "display_name": "Python 3",
   "name": "python3"
  },
  "language_info": {
   "codemirror_mode": {
    "name": "ipython",
    "version": 3
   },
   "file_extension": ".py",
   "mimetype": "text/x-python",
   "name": "python",
   "nbconvert_exporter": "python",
   "pygments_lexer": "ipython3",
   "version": "3.11.2"
  }
 },
 "nbformat": 4,
 "nbformat_minor": 0
}
