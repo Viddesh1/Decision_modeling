{
 "cells": [
  {
   "attachments": {},
   "cell_type": "markdown",
   "metadata": {},
   "source": [
    "### Step 1: Importing the required libraries"
   ]
  },
  {
   "cell_type": "code",
   "execution_count": 4,
   "metadata": {},
   "outputs": [
    {
     "name": "stdout",
     "output_type": "stream",
     "text": [
      "Gym version:  0.24.0\n",
      "Numpy Version:  1.23.5\n"
     ]
    }
   ],
   "source": [
    "# Importing the necessary libraries for implementing SARSA learning.\n",
    "\n",
    "import numpy as np\n",
    "import gym\n",
    "import pickle\n",
    "\n",
    "print(\"Gym version: \", gym.__version__)\n",
    "print(\"Numpy Version: \", np.__version__)"
   ]
  },
  {
   "attachments": {},
   "cell_type": "markdown",
   "metadata": {},
   "source": [
    "### Step 2: Building the environment\n",
    "Here, we will be using the ‘FrozenLake-v0’ environment which is preloaded into gym"
   ]
  },
  {
   "cell_type": "code",
   "execution_count": 5,
   "metadata": {},
   "outputs": [],
   "source": [
    "#Building the environment\n",
    "env = gym.make('FrozenLake-v1')"
   ]
  },
  {
   "attachments": {},
   "cell_type": "markdown",
   "metadata": {},
   "source": [
    "### Step 3: Initializing different parameters"
   ]
  },
  {
   "cell_type": "code",
   "execution_count": 7,
   "metadata": {},
   "outputs": [
    {
     "data": {
      "text/plain": [
       "array([[0., 0., 0., 0.],\n",
       "       [0., 0., 0., 0.],\n",
       "       [0., 0., 0., 0.],\n",
       "       [0., 0., 0., 0.],\n",
       "       [0., 0., 0., 0.],\n",
       "       [0., 0., 0., 0.],\n",
       "       [0., 0., 0., 0.],\n",
       "       [0., 0., 0., 0.],\n",
       "       [0., 0., 0., 0.],\n",
       "       [0., 0., 0., 0.],\n",
       "       [0., 0., 0., 0.],\n",
       "       [0., 0., 0., 0.],\n",
       "       [0., 0., 0., 0.],\n",
       "       [0., 0., 0., 0.],\n",
       "       [0., 0., 0., 0.],\n",
       "       [0., 0., 0., 0.]])"
      ]
     },
     "execution_count": 7,
     "metadata": {},
     "output_type": "execute_result"
    }
   ],
   "source": [
    "#Defining the different parameters\n",
    "epsilon = 0.9\n",
    "total_episodes = 10000\n",
    "max_steps = 100\n",
    "alpha = 0.85\n",
    "gamma = 0.95\n",
    "\n",
    "#Initializing the Q-matrix\n",
    "Q = np.zeros((env.observation_space.n, env.action_space.n))\n",
    "Q # printing Q-table\n"
   ]
  },
  {
   "attachments": {},
   "cell_type": "markdown",
   "metadata": {},
   "source": [
    "### Step 4: Defining utility functions to be used in the learning process"
   ]
  },
  {
   "cell_type": "code",
   "execution_count": 8,
   "metadata": {},
   "outputs": [],
   "source": [
    "#Function to choose the next action\n",
    "def choose_action(state):\n",
    "\taction=0\n",
    "\tif np.random.uniform(0, 1) < epsilon:\n",
    "\t\taction = env.action_space.sample()\n",
    "\telse:\n",
    "\t\taction = np.argmax(Q[state, :])\n",
    "\treturn action\n",
    "\n",
    "#Function to learn the Q-value\n",
    "def update(state, state2, reward, action, action2):\n",
    "\tpredict = Q[state, action]\n",
    "\ttarget = reward + gamma * Q[state2, action2]\n",
    "\tQ[state, action] = Q[state, action] + alpha * (target - predict)\n"
   ]
  },
  {
   "attachments": {},
   "cell_type": "markdown",
   "metadata": {},
   "source": [
    "### Step 5: Training the learning agent"
   ]
  },
  {
   "cell_type": "code",
   "execution_count": null,
   "metadata": {},
   "outputs": [],
   "source": [
    "#Initializing the reward\n",
    "reward=0\n",
    "\n",
    "# Starting the SARSA learning\n",
    "for episode in range(total_episodes):\n",
    "\tt = 0\n",
    "\tstate1 = env.reset()\n",
    "\taction1 = choose_action(state1)\n",
    "\n",
    "\twhile t < max_steps:\n",
    "\t\t#Visualizing the training\n",
    "\t\tenv.render()\n",
    "\t\t\n",
    "\t\t#Getting the next state\n",
    "\t\tstate2, reward, done, info = env.step(action1)\n",
    "\n",
    "\t\t#Choosing the next action\n",
    "\t\taction2 = choose_action(state2)\n",
    "\t\t\n",
    "\t\t#Learning the Q-value\n",
    "\t\tupdate(state1, state2, reward, action1, action2)\n",
    "\n",
    "\t\tstate1 = state2\n",
    "\t\taction1 = action2\n",
    "\t\t\n",
    "\t\t#Updating the respective vaLues\n",
    "\t\tt += 1\n",
    "\t\treward += 1\n",
    "\t\t\n",
    "\t\t#If at the end of learning process\n",
    "\t\tif done:\n",
    "\t\t\tbreak\n"
   ]
  },
  {
   "attachments": {},
   "cell_type": "markdown",
   "metadata": {},
   "source": [
    "### Step 6: Evaluating the performance"
   ]
  },
  {
   "cell_type": "code",
   "execution_count": null,
   "metadata": {},
   "outputs": [],
   "source": [
    "#Evaluating the performance\n",
    "print (\"Performance : \", reward/total_episodes)\n",
    "\n",
    "#Visualizing the Q-matrix\n",
    "print(Q)\n"
   ]
  },
  {
   "cell_type": "code",
   "execution_count": null,
   "metadata": {},
   "outputs": [],
   "source": [
    "# Dumping the Q-table in pickle file for easy loading when needed.\n",
    "\n",
    "with open(\"frozenLake_qTable.pkl\", 'wb') as f:\n",
    "    pickle.dump(Q, f)"
   ]
  },
  {
   "cell_type": "code",
   "execution_count": null,
   "metadata": {},
   "outputs": [],
   "source": [
    "# Q-Table Representation\n",
    "\n",
    "# Q = [[0.61328675 0.58403178 0.59475622 0.60545697]\n",
    "#  [0.56521894 0.11293677 0.50370929 0.60326189]\n",
    "#  [0.59057488 0.58249108 0.57499097 0.59089953]\n",
    "#  [0.57255264 0.01738344 0.57441336 0.59935962]\n",
    "#  [0.62387633 0.5546865  0.71629256 0.11403143]\n",
    "#  [0.         0.         0.         0.        ]\n",
    "#  [0.64606929 0.71730524 0.73581135 0.11986364]\n",
    "#  [0.         0.         0.         0.        ]\n",
    "#  [0.61203901 0.70121817 0.69993882 0.79860727]\n",
    "#  [0.1464226  0.87045385 0.16544007 0.13804508]\n",
    "#  [0.91957935 0.91595476 0.57216828 0.68562543]\n",
    "#  [0.         0.         0.         0.        ]\n",
    "#  [0.         0.         0.         0.        ]\n",
    "#  [0.81536073 0.03436849 0.87831349 0.70812791]\n",
    "#  [0.95772482 0.88879209 0.92707794 0.99582979]\n",
    "#  [0.         0.         0.         0.        ]]"
   ]
  },
  {
   "cell_type": "code",
   "execution_count": null,
   "metadata": {},
   "outputs": [],
   "source": [
    "import numpy as np\n",
    "import time \n",
    "import pickle\n",
    "import gym\n",
    "import os\n",
    "\n",
    "env = gym.make('FrozenLake-v1') # Create an instance of the FrozenLake-v1 environment\n",
    "\n",
    "# Un-pickling the pickle file using load() function. To convert from pickle to python object.\n",
    "with open(\"frozenLake_qTable.pkl\", 'rb') as f: \n",
    "\tQ = pickle.load(f)\n",
    "\n",
    "# Choosing the maximum value from the state and action\n",
    "def choose_action(state):\n",
    "\taction = np.argmax(Q[state, :])\n",
    "\treturn action\n",
    "\n",
    "# Rendering the environment and choosing the best action based on policy\n",
    "for episode in range(5):\n",
    "\n",
    "\tstate = env.reset()\n",
    "\tprint(\"*** Episode: \", episode)\n",
    "\tt = 0\n",
    "\twhile t < 100:\n",
    "\t\tenv.render()\n",
    "\n",
    "\t\taction = choose_action(state)  \n",
    "\t\t\n",
    "\t\tstate2, reward, done, info = env.step(action)  \n",
    "\t\t\n",
    "\t\tstate = state2\n",
    "\n",
    "\t\tif done:\n",
    "\t\t\tbreak\n",
    "\n",
    "\t\ttime.sleep(0.5)\n",
    "\t\tos.system('clear')"
   ]
  },
  {
   "cell_type": "code",
   "execution_count": 1,
   "metadata": {},
   "outputs": [
    {
     "data": {
      "image/png": "[encoded data removed]",
      "text/plain": [
       "<IPython.core.display.Image object>"
      ]
     },
     "execution_count": 1,
     "metadata": {},
     "output_type": "execute_result"
    }
   ],
   "source": [
    "from IPython.display import Image\n",
    "Image(filename='SARSA_Formula.png') "
   ]
  },
  {
   "cell_type": "code",
   "execution_count": 1,
   "metadata": {},
   "outputs": [
    {
     "name": "stdout",
     "output_type": "stream",
     "text": [
      "[[0.00000000e+00 2.43272530e+00]\n",
      " [1.90508246e+00 5.82769817e-04]\n",
      " [1.38758459e-01 0.00000000e+00]\n",
      " [0.00000000e+00 0.00000000e+00]\n",
      " [0.00000000e+00 0.00000000e+00]]\n",
      "\n",
      "Optimal policy:\n",
      "State 0: Action 1\n",
      "State 1: Action 0\n",
      "State 2: Action 0\n",
      "State 3: Action 0\n",
      "State 4: Action 0\n"
     ]
    }
   ],
   "source": [
    "# SARSA Algorithm Implementation\n",
    "\n",
    "import numpy as np\n",
    "import random\n",
    "\n",
    "# Define the environment\n",
    "n_states = 5\n",
    "n_actions = 2\n",
    "reward_table = np.array([[0, 1], [0, 0], [0, 0], [0, 0], [1, 0]])  # Rewards for each state-action pair\n",
    "\n",
    "# Define the hyperparameters\n",
    "learning_rate = 0.1\n",
    "discount_factor = 0.99\n",
    "epsilon = 0.1\n",
    "\n",
    "# Initialize the Q-table\n",
    "q_table = np.zeros((n_states, n_actions))\n",
    "\n",
    "# Define the SARSA algorithm\n",
    "def sarsa(state, q_table, epsilon):\n",
    "    # Choose the action using an epsilon-greedy policy\n",
    "    if random.random() < epsilon:\n",
    "        action = random.randint(0, n_actions - 1)\n",
    "    else:\n",
    "        action = np.argmax(q_table[state])\n",
    "    \n",
    "    # Take the chosen action and observe the new state and reward\n",
    "    new_state = state + (2 * action - 1)  # Move left or right\n",
    "    if new_state < 0 or new_state >= n_states:\n",
    "        return state, action  # If the new state is invalid, return the current state and action\n",
    "    reward = reward_table[state, action]\n",
    "    \n",
    "    # Choose the next action using an epsilon-greedy policy\n",
    "    if random.random() < epsilon:\n",
    "        next_action = random.randint(0, n_actions - 1)\n",
    "    else:\n",
    "        next_action = np.argmax(q_table[new_state])\n",
    "    \n",
    "    # Update the Q-table using the SARSA rule\n",
    "    q_table[state, action] = q_table[state, action] + learning_rate * \\\n",
    "                             (reward + discount_factor * q_table[new_state, next_action] - q_table[state, action])\n",
    "    \n",
    "    return new_state, next_action\n",
    "\n",
    "# Run the SARSA algorithm\n",
    "state = 2  # Initial state\n",
    "for i in range(100):\n",
    "    state, _ = sarsa(state, q_table, epsilon)\n",
    "\n",
    "print(q_table, end=\"\\n\\n\")\n",
    "\n",
    "# Obtain the optimal policy from the Q-table\n",
    "optimal_policy = np.argmax(q_table, axis=1)\n",
    "\n",
    "# Print the optimal policy\n",
    "print(\"Optimal policy:\")\n",
    "for s in range(n_states):\n",
    "    print(f\"State {s}: Action {optimal_policy[s]}\")"
   ]
  }
 ],
 "metadata": {
  "kernelspec": {
   "display_name": "Python 3",
   "language": "python",
   "name": "python3"
  },
  "language_info": {
   "codemirror_mode": {
    "name": "ipython",
    "version": 3
   },
   "file_extension": ".py",
   "mimetype": "text/x-python",
   "name": "python",
   "nbconvert_exporter": "python",
   "pygments_lexer": "ipython3",
   "version": "3.11.2"
  },
  "orig_nbformat": 4
 },
 "nbformat": 4,
 "nbformat_minor": 2
}
